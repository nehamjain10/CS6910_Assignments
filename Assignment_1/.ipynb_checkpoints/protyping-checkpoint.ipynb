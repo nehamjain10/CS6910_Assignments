{
 "cells": [
  {
   "cell_type": "code",
   "execution_count": 14,
   "id": "23b03841",
   "metadata": {},
   "outputs": [],
   "source": [
    "import torch\n",
    "from torch import nn, optim\n",
    "import torch.nn as nn\n",
    "from torch.autograd import Variable\n",
    "from sklearn.model_selection import train_test_split\n",
    "import pandas as pd\n",
    "from torch.utils.data import TensorDataset, DataLoader\n",
    "import numpy as np\n",
    "import matplotlib.pyplot as plt\n",
    "from mpl_toolkits import mplot3d"
   ]
  },
  {
   "cell_type": "code",
   "execution_count": 15,
   "id": "aa647418",
   "metadata": {},
   "outputs": [
    {
     "name": "stdout",
     "output_type": "stream",
     "text": [
      "(1598, 60)\n",
      "(1598,)\n"
     ]
    }
   ],
   "source": [
    "device = torch.device(\"cuda\") if torch.cuda.is_available() else torch.device(\"cpu\")\n",
    "\n",
    "\n",
    "file_path_image_data = \"task2b/single_label_image_dataset/image_data_dim60.txt\"\n",
    "file_path_image_labels = \"task2b/single_label_image_dataset/image_data_labels.txt\"\n",
    "\n",
    "image_data = np.loadtxt(file_path_image_data)\n",
    "labels = np.loadtxt(file_path_image_labels)\n",
    "\n",
    "group_data = [6,1,3,2,5]\n",
    "NUM_CLASSES = 5\n",
    "image_data = image_data[np.in1d(labels, group_data)]\n",
    "labels = labels[np.in1d(labels, group_data)]\n",
    "\n",
    "print(image_data.shape)\n",
    "print(labels.shape)\n",
    "\n"
   ]
  },
  {
   "cell_type": "code",
   "execution_count": 18,
   "id": "f9c7c1fb",
   "metadata": {},
   "outputs": [],
   "source": [
    "class MLFFNN(nn.Module):\n",
    "    \"\"\"\n",
    "    Class of Multi Layer Feed Forward Neural Network (MLFFNN)\n",
    "    \"\"\"\n",
    "    def __init__(self, hidden_dim) :\n",
    "        super(MLFFNN, self).__init__()\n",
    "        torch.manual_seed(3)\n",
    "        # adding linear and non-linear hidden layers\n",
    "        self.mlffnn = nn.Sequential(nn.Linear(2, hidden_dim),\n",
    "                                       nn.Tanh(),\n",
    "                                       nn.Linear(hidden_dim, hidden_dim),\n",
    "                                       nn.Tanh(),\n",
    "                                       nn.Linear(hidden_dim, NUM_CLASSES))\n",
    "        \n",
    "    def forward(self, X):\n",
    "        y = self.mlffnn(X)\n",
    "        return y\n",
    "\n",
    "hidden_dim = 48\n",
    "BATCH_SIZE = 32\n",
    "# In the first step we will split the data in training and remaining dataset\n",
    "X_train, X_rem, y_train, y_rem = train_test_split(image_data,labels, train_size=0.7)\n",
    "X_valid, X_test, y_valid, y_test = train_test_split(X_rem, y_rem, test_size=0.67)\n",
    "\n",
    "X_train, y_train, X_valid, X_test, y_valid, y_test = map(torch.tensor, [X_train, y_train, X_valid, X_test, y_valid, y_test])\n",
    "train_dataloader = DataLoader(TensorDataset(X_train.unsqueeze(1), y_train.unsqueeze(1)), batch_size=BATCH_SIZE,\n",
    "                              pin_memory=True, shuffle=True)\n",
    "valid_dataloader = DataLoader(TensorDataset(X_valid.unsqueeze(1), y_valid.unsqueeze(1)), batch_size=BATCH_SIZE,\n",
    "                            pin_memory=True, shuffle=True)\n",
    "test_dataloader = DataLoader(TensorDataset(X_test.unsqueeze(1), y_test.unsqueeze(1)), batch_size=BATCH_SIZE,\n",
    "                            pin_memory=True, shuffle=True)\n",
    "\n",
    "model_delta = MLFFNN(hidden_dim).to(device)\n",
    "model_ada_delta = MLFFNN(hidden_dim).to(device)\n",
    "model_adam = MLFFNN(hidden_dim).to(device)\n"
   ]
  },
  {
   "cell_type": "code",
   "execution_count": 21,
   "id": "d4605e5c",
   "metadata": {},
   "outputs": [],
   "source": [
    "accuracy_metrics = {\n",
    "    'train': [],\n",
    "    \"val\": []\n",
    "}\n",
    "loss_metrics = {\n",
    "    'train': [],\n",
    "    \"val\": []\n",
    "}"
   ]
  },
  {
   "cell_type": "code",
   "execution_count": 20,
   "id": "b64571a4",
   "metadata": {},
   "outputs": [],
   "source": [
    "def multi_acc(y_pred, y_test):\n",
    "    y_pred_softmax = torch.log_softmax(y_pred, dim = 1)\n",
    "    _, y_pred_tags = torch.max(y_pred_softmax, dim = 1)    \n",
    "    \n",
    "    correct_pred = (y_pred_tags == y_test).float()\n",
    "    acc = correct_pred.sum() / len(correct_pred)\n",
    "    \n",
    "    acc = torch.round(acc * 100)\n",
    "    \n",
    "    return acc"
   ]
  },
  {
   "cell_type": "code",
   "execution_count": null,
   "id": "d2a552f3",
   "metadata": {},
   "outputs": [],
   "source": [
    "\n",
    "lrs = []\n",
    "criterion = nn.CrossEntropyLoss()\n",
    "\n",
    "\n",
    "for lr in lrs:\n",
    "    optimizer_delta = optim.SGD(model_delta.parameters(),momentum=0, lr=lr)\n",
    "    optimizer_adaptive_delta = optim.SGD(model_ada_delta.parameters(), lr=lr)\n",
    "    optimizer_adam  = optim.Adam(model_adam.parameters(), lr=lr)\n",
    "    model.train()\n",
    "    for epoch in range(MAX_EPOCHS)\n",
    "        for X_train, y_train in train_dataloader:\n",
    "            X_train = X_train.type(torch.float32).to(device)\n",
    "            y_train = y_train.type(torch.float32).to(device)\n",
    "\n",
    "            optimizer.zero_grad()\n",
    "\n",
    "            score = model(X_train)\n",
    "            y_train = y_train.unsqueeze(1)\n",
    "            loss = criterion(input=score, target=y_train)\n",
    "            loss.backward()\n",
    "            optimizer.step()\n",
    "\n",
    "        # Validation\n",
    "        with torch.nograd():\n",
    "            for X_valid, y_valid in valid_dataloader:\n",
    "                model.eval()\n",
    "                X_valid = X_valid.type(torch.float32).to(device)\n",
    "                y_valid = y_valid.type(torch.float32).to(device)\n",
    "\n",
    "                score = model(X_valid)\n",
    "                y_valid = y_valid.unsqueeze(1)\n",
    "                loss = criterion(input=score, target=y_valid)\n",
    "\n",
    "                temp_loss_list.append(loss.detach().cpu().numpy())\n",
    "\n",
    "        train_loss_list.append(np.average(temp_loss_list))\n",
    "\n",
    "\n",
    "        #print(\"\\tval loss: %.5f\" % train_loss_list[-1])\n",
    "        #print()\n",
    "    print(\"Learning Rate: {0}\\tNo. of Neurons: {1}\\tValidation loss: {2}\".format(lr, neur, train_loss_list[-1]))\n",
    "\n"
   ]
  },
  {
   "cell_type": "code",
   "execution_count": null,
   "id": "462b47d5",
   "metadata": {},
   "outputs": [],
   "source": []
  }
 ],
 "metadata": {
  "kernelspec": {
   "display_name": "Python 3 (ipykernel)",
   "language": "python",
   "name": "python3"
  },
  "language_info": {
   "codemirror_mode": {
    "name": "ipython",
    "version": 3
   },
   "file_extension": ".py",
   "mimetype": "text/x-python",
   "name": "python",
   "nbconvert_exporter": "python",
   "pygments_lexer": "ipython3",
   "version": "3.8.10"
  }
 },
 "nbformat": 4,
 "nbformat_minor": 5
}
