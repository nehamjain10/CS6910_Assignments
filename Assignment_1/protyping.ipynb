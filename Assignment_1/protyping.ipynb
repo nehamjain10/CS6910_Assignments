{
 "cells": [
  {
   "cell_type": "code",
   "execution_count": 63,
   "id": "23b03841",
   "metadata": {},
   "outputs": [],
   "source": [
    "import torch\n",
    "from torch import nn, optim\n",
    "import torch.nn as nn\n",
    "from torch.autograd import Variable\n",
    "from sklearn.model_selection import train_test_split\n",
    "from torch.utils.data import TensorDataset, DataLoader\n",
    "import numpy as np\n",
    "import matplotlib.pyplot as plt\n",
    "from mpl_toolkits import mplot3d\n",
    "import seaborn as sns"
   ]
  },
  {
   "cell_type": "code",
   "execution_count": 64,
   "id": "aa647418",
   "metadata": {},
   "outputs": [
    {
     "name": "stdout",
     "output_type": "stream",
     "text": [
      "(1598, 60)\n",
      "(1598,)\n"
     ]
    }
   ],
   "source": [
    "device = torch.device(\"cuda\") if torch.cuda.is_available() else torch.device(\"cpu\")\n",
    "\n",
    "file_path_image_data = \"task2b/single_label_image_dataset/image_data_dim60.txt\"\n",
    "file_path_image_labels = \"task2b/single_label_image_dataset/image_data_labels.txt\"\n",
    "\n",
    "image_data = np.loadtxt(file_path_image_data)\n",
    "labels = np.loadtxt(file_path_image_labels)\n",
    "\n",
    "group_data = {1:0,2:1,3:2,5:3,6:4}\n",
    "idx_to_labels = [\"Forest\",\"Highway\",\"Inside\",\"OpenCountry\",\"Street\"]\n",
    "\n",
    "NUM_CLASSES = 5\n",
    "MAX_EPOCHS = 50\n",
    "INPUT_DIM  = image_data.shape[1]\n",
    "image_data = image_data[np.in1d(labels, list(group_data.keys()))]\n",
    "labels = labels[np.in1d(labels, list(group_data.keys()))]\n",
    "\n",
    "print(image_data.shape)\n",
    "print(labels.shape)\n",
    "\n",
    "labels = np.vectorize(group_data.get)(labels)\n"
   ]
  },
  {
   "cell_type": "code",
   "execution_count": 36,
   "id": "f9c7c1fb",
   "metadata": {},
   "outputs": [],
   "source": [
    "class MLFFNN(nn.Module):\n",
    "    \"\"\"\n",
    "    Class of Multi Layer Feed Forward Neural Network (MLFFNN)\n",
    "    \"\"\"\n",
    "    def __init__(self, hidden_dim) :\n",
    "        super(MLFFNN, self).__init__()\n",
    "        torch.manual_seed(3)\n",
    "        # adding linear and non-linear hidden layers\n",
    "        self.mlffnn = nn.Sequential(nn.Linear(INPUT_DIM, hidden_dim),\n",
    "                                       nn.Tanh(),\n",
    "                                       nn.Linear(hidden_dim, hidden_dim),\n",
    "                                       nn.Tanh(),\n",
    "                                       nn.Linear(hidden_dim, NUM_CLASSES))\n",
    "        \n",
    "    def forward(self, X):\n",
    "        y = self.mlffnn(X)\n",
    "        return y\n",
    "\n",
    "hidden_dim = 48\n",
    "BATCH_SIZE = 32\n",
    "# In the first step we will split the data in training and remaining dataset\n",
    "X_train, X_rem, y_train, y_rem = train_test_split(image_data,labels, train_size=0.7)\n",
    "X_valid, X_test, y_valid, y_test = train_test_split(X_rem, y_rem, test_size=0.67)\n",
    "\n",
    "X_train, y_train, X_valid, X_test, y_valid, y_test = map(torch.tensor, [X_train, y_train, X_valid, X_test, y_valid, y_test])\n",
    "\n",
    "\n"
   ]
  },
  {
   "cell_type": "code",
   "execution_count": 37,
   "id": "d4605e5c",
   "metadata": {},
   "outputs": [],
   "source": [
    "accuracy_metrics = {\n",
    "    'train': [],\n",
    "    \"val\": []\n",
    "}\n",
    "loss_metrics = {\n",
    "    'train': [],\n",
    "    \"val\": []\n",
    "}"
   ]
  },
  {
   "cell_type": "code",
   "execution_count": 38,
   "id": "b64571a4",
   "metadata": {},
   "outputs": [],
   "source": [
    "def multi_acc(y_pred, y_test):\n",
    "    y_pred_softmax = torch.log_softmax(y_pred, dim = 1)\n",
    "    _, y_pred_tags = torch.max(y_pred_softmax, dim = 1)    \n",
    "    \n",
    "    correct_pred = (y_pred_tags == y_test).float()\n",
    "    acc = correct_pred.sum() / len(correct_pred)\n",
    "    \n",
    "    acc = acc * 100\n",
    "    \n",
    "    return acc"
   ]
  },
  {
   "cell_type": "code",
   "execution_count": 68,
   "id": "5a5e875e",
   "metadata": {},
   "outputs": [],
   "source": [
    "train_dataloader = DataLoader(TensorDataset(X_train.unsqueeze(1), y_train.unsqueeze(1)), batch_size=BATCH_SIZE,\n",
    "                              pin_memory=True, shuffle=True)\n",
    "val_dataloader = DataLoader(TensorDataset(X_valid.unsqueeze(1), y_valid.unsqueeze(1)), batch_size=BATCH_SIZE,\n",
    "                            pin_memory=True, shuffle=True)\n",
    "test_dataloader = DataLoader(TensorDataset(X_test.unsqueeze(1), y_test.unsqueeze(1)), batch_size=BATCH_SIZE,\n",
    "                            pin_memory=True, shuffle=True)\n"
   ]
  },
  {
   "cell_type": "code",
   "execution_count": 69,
   "id": "d2a552f3",
   "metadata": {},
   "outputs": [],
   "source": [
    "\n",
    "lrs = [1e-6, 1e-5, 1e-4, 1e-3, 1e-2]\n",
    "criterion = nn.CrossEntropyLoss()\n",
    "\n",
    "def train_model(optimizer,model,model_type=\"model_delta\"):\n",
    "    model.train()\n",
    "    loss_metrics = {\n",
    "    'train': [],\n",
    "    \"val\": []\n",
    "    }\n",
    "    accuracy_metrics = {\n",
    "    'train': [],\n",
    "    \"val\": []\n",
    "    }\n",
    "    no_improvement=0\n",
    "    best_loss = 100000\n",
    "    for epoch in range(MAX_EPOCHS):\n",
    "        train_loss = []\n",
    "        correct_classified = 0\n",
    "        for X_train, y_train in train_dataloader:\n",
    "            X_train = X_train.type(torch.float32).to(device)\n",
    "            y_train = y_train.type(torch.long).to(device)\n",
    "\n",
    "            optimizer.zero_grad()\n",
    "\n",
    "            score = model(X_train)\n",
    "            score = score.squeeze(dim=1)\n",
    "            y_train = y_train.squeeze(dim=1)\n",
    "            \n",
    "            loss = criterion(input=score, target=y_train)\n",
    "            loss.backward()\n",
    "            train_loss.append(loss.item())\n",
    "            max_indices = torch.argmax(score, dim=1)\n",
    "            correct_classified +=  (max_indices == y_train).float().sum()\n",
    "\n",
    "            optimizer.step()\n",
    "\n",
    "        accuracy_metrics[\"train\"].append(correct_classified.item() / len(train_dataloader.dataset))\n",
    "        # Validation\n",
    "        validation_loss = []\n",
    "        correct_classified = 0\n",
    "\n",
    "        with torch.no_grad():\n",
    "            for X_valid, y_valid in val_dataloader:\n",
    "                model.eval()\n",
    "                X_valid = X_valid.type(torch.float32).to(device)\n",
    "                y_valid = y_valid.type(torch.long).to(device)\n",
    "                \n",
    "                score = model(X_valid)\n",
    "                score = score.squeeze(dim=1)\n",
    "                \n",
    "                y_valid = y_valid.squeeze(dim=1)\n",
    "                loss = criterion(input=score, target=y_valid)\n",
    "                validation_loss.append(loss.item())\n",
    "\n",
    "                max_indices = torch.argmax(score, dim=1)\n",
    "                correct_classified +=  (max_indices == y_valid).float().sum()\n",
    "        \n",
    "        accuracy_metrics[\"val\"].append(correct_classified.item() / len(valid_dataloader.dataset))\n",
    "        \n",
    "        loss_metrics[\"train\"].append(np.average(train_loss))\n",
    "        loss_metrics[\"val\"].append(np.average(validation_loss))\n",
    "    \n",
    "        if np.average(validation_loss) < best_loss:\n",
    "            best_loss = np.average(validation_loss)\n",
    "            torch.save(model, f'{model_type}.pth')\n",
    "            no_improvement=0\n",
    "        else:\n",
    "            no_improvement+=1\n",
    "            if no_improvement==2:\n",
    "                break\n",
    "\n",
    "    \n",
    "    return loss_metrics, accuracy_metrics,epoch\n",
    "\n",
    "\n",
    "    \n"
   ]
  },
  {
   "cell_type": "code",
   "execution_count": 55,
   "id": "1ac2b484",
   "metadata": {},
   "outputs": [],
   "source": [
    "delta_loss = []\n",
    "ada_delta_loss = []\n",
    "adam_loss = []"
   ]
  },
  {
   "cell_type": "code",
   "execution_count": 60,
   "id": "1c074f7b",
   "metadata": {},
   "outputs": [],
   "source": [
    "def plot_comparative(loss_delta,loss_ada_delta,loss_adam,epochs,lr,is_type=\"train\",loss_or_accuracy=\"loss\"):\n",
    "    plt.figure(figsize=(10,8),dpi=300)\n",
    "    print(epochs[0],len(loss_delta[is_type]))\n",
    "    plt.plot(range(epochs[0]+1),loss_delta[is_type],label=\"Delta\")\n",
    "    plt.plot(range(epochs[1]+1),loss_ada_delta[is_type],label=\"Adaptive Delta\")\n",
    "    plt.plot(range(epochs[2]+1),loss_adam[is_type],label=\"Adam\")\n",
    "    plt.legend()\n",
    "    if is_type==\"train\":\n",
    "        plt.title(f\"Training {loss_or_accuracy} vs Number of epochs with Learning Rate: {lr}\")\n",
    "        plt.savefig(f\"figs/training_loss_{lr}.png\")\n",
    "    else:\n",
    "        plt.title(f\"Validation {loss_or_accuracy} vs Number of epochs with Learning Rate: {lr}\")\n",
    "        plt.savefig(f\"figs/validation_loss_{lr}.png\")"
   ]
  },
  {
   "cell_type": "code",
   "execution_count": 67,
   "id": "8f9aba89",
   "metadata": {},
   "outputs": [],
   "source": [
    "def plot_confusion_matrix(lr,model_type,dataloader):\n",
    "    model = torch.load(f'{model_type}.pth')\n",
    "    model.eval()\n",
    "    with torch.no_grad():\n",
    "        confusion_matrix = torch.zeros(NUM_CLASSES, NUM_CLASSES)\n",
    "        for X_test, y_test in dataloader:\n",
    "            X_test = X_test.type(torch.float32).to(device)\n",
    "            y_test = y_test.type(torch.long).to(device)\n",
    "            score = model(X_test)\n",
    "            score = score.squeeze(dim=1)\n",
    "            y_test = y_test.squeeze(dim=1)\n",
    "            max_indices = torch.argmax(score, dim=1)\n",
    "            for t, p in zip(y_test.cpu(), max_indices.cpu()):\n",
    "                confusion_matrix[t.long(), p.long()] += 1\n",
    "        plt.figure(figsize=(10,8),dpi=300)\n",
    "        sns.heatmap(confusion_matrix.numpy(), annot=True, cmap=\"Blues\", fmt=\"d\",labels=idx_to_labels)  \n",
    "        plt.title(f\"Confusion Matrix with Learning Rate: {lr}\")\n",
    "        plt.savefig(f\"figs/confusion_matrix_{lr}.png\")"
   ]
  },
  {
   "cell_type": "code",
   "execution_count": 62,
   "id": "e7a5d4d7",
   "metadata": {},
   "outputs": [
    {
     "ename": "KeyboardInterrupt",
     "evalue": "",
     "output_type": "error",
     "traceback": [
      "\u001b[0;31m---------------------------------------------------------------------------\u001b[0m",
      "\u001b[0;31mKeyboardInterrupt\u001b[0m                         Traceback (most recent call last)",
      "\u001b[0;32m/tmp/ipykernel_87863/3558774542.py\u001b[0m in \u001b[0;36m<module>\u001b[0;34m\u001b[0m\n\u001b[1;32m     13\u001b[0m     \u001b[0mloss_delta\u001b[0m\u001b[0;34m,\u001b[0m\u001b[0macc_delta\u001b[0m\u001b[0;34m,\u001b[0m\u001b[0mepoch_delta\u001b[0m \u001b[0;34m=\u001b[0m \u001b[0mtrain_model\u001b[0m\u001b[0;34m(\u001b[0m\u001b[0moptimizer_delta\u001b[0m\u001b[0;34m,\u001b[0m \u001b[0mmodel_delta\u001b[0m\u001b[0;34m,\u001b[0m\u001b[0;34m\"model_delta\"\u001b[0m\u001b[0;34m)\u001b[0m\u001b[0;34m\u001b[0m\u001b[0;34m\u001b[0m\u001b[0m\n\u001b[1;32m     14\u001b[0m     \u001b[0mloss_ada_delta\u001b[0m\u001b[0;34m,\u001b[0m\u001b[0macc_ada_delta\u001b[0m\u001b[0;34m,\u001b[0m\u001b[0mepoch_ada_delta\u001b[0m \u001b[0;34m=\u001b[0m \u001b[0mtrain_model\u001b[0m\u001b[0;34m(\u001b[0m\u001b[0moptimizer_ada_delta\u001b[0m\u001b[0;34m,\u001b[0m \u001b[0mmodel_ada_delta\u001b[0m\u001b[0;34m,\u001b[0m\u001b[0;34m\"model_ada_delta\"\u001b[0m\u001b[0;34m)\u001b[0m\u001b[0;34m\u001b[0m\u001b[0;34m\u001b[0m\u001b[0m\n\u001b[0;32m---> 15\u001b[0;31m     \u001b[0mloss_adam\u001b[0m\u001b[0;34m,\u001b[0m\u001b[0macc_adam\u001b[0m\u001b[0;34m,\u001b[0m\u001b[0mepoch_adam\u001b[0m \u001b[0;34m=\u001b[0m \u001b[0mtrain_model\u001b[0m\u001b[0;34m(\u001b[0m\u001b[0moptimizer_adam\u001b[0m\u001b[0;34m,\u001b[0m \u001b[0mmodel_adam\u001b[0m\u001b[0;34m,\u001b[0m\u001b[0;34m\"model_adam\"\u001b[0m\u001b[0;34m)\u001b[0m\u001b[0;34m\u001b[0m\u001b[0;34m\u001b[0m\u001b[0m\n\u001b[0m\u001b[1;32m     16\u001b[0m \u001b[0;34m\u001b[0m\u001b[0m\n\u001b[1;32m     17\u001b[0m     \u001b[0mepochs\u001b[0m \u001b[0;34m=\u001b[0m \u001b[0;34m[\u001b[0m\u001b[0mepoch_delta\u001b[0m\u001b[0;34m,\u001b[0m\u001b[0mepoch_ada_delta\u001b[0m\u001b[0;34m,\u001b[0m\u001b[0mepoch_adam\u001b[0m\u001b[0;34m]\u001b[0m\u001b[0;34m\u001b[0m\u001b[0;34m\u001b[0m\u001b[0m\n",
      "\u001b[0;32m/tmp/ipykernel_87863/1307597779.py\u001b[0m in \u001b[0;36mtrain_model\u001b[0;34m(optimizer, model, model_type)\u001b[0m\n\u001b[1;32m     33\u001b[0m             \u001b[0mcorrect_classified\u001b[0m \u001b[0;34m+=\u001b[0m  \u001b[0;34m(\u001b[0m\u001b[0mmax_indices\u001b[0m \u001b[0;34m==\u001b[0m \u001b[0my_train\u001b[0m\u001b[0;34m)\u001b[0m\u001b[0;34m.\u001b[0m\u001b[0mfloat\u001b[0m\u001b[0;34m(\u001b[0m\u001b[0;34m)\u001b[0m\u001b[0;34m.\u001b[0m\u001b[0msum\u001b[0m\u001b[0;34m(\u001b[0m\u001b[0;34m)\u001b[0m\u001b[0;34m\u001b[0m\u001b[0;34m\u001b[0m\u001b[0m\n\u001b[1;32m     34\u001b[0m \u001b[0;34m\u001b[0m\u001b[0m\n\u001b[0;32m---> 35\u001b[0;31m             \u001b[0moptimizer\u001b[0m\u001b[0;34m.\u001b[0m\u001b[0mstep\u001b[0m\u001b[0;34m(\u001b[0m\u001b[0;34m)\u001b[0m\u001b[0;34m\u001b[0m\u001b[0;34m\u001b[0m\u001b[0m\n\u001b[0m\u001b[1;32m     36\u001b[0m \u001b[0;34m\u001b[0m\u001b[0m\n\u001b[1;32m     37\u001b[0m         \u001b[0maccuracy_metrics\u001b[0m\u001b[0;34m[\u001b[0m\u001b[0;34m\"train\"\u001b[0m\u001b[0;34m]\u001b[0m\u001b[0;34m.\u001b[0m\u001b[0mappend\u001b[0m\u001b[0;34m(\u001b[0m\u001b[0mcorrect_classified\u001b[0m\u001b[0;34m.\u001b[0m\u001b[0mitem\u001b[0m\u001b[0;34m(\u001b[0m\u001b[0;34m)\u001b[0m \u001b[0;34m/\u001b[0m \u001b[0mlen\u001b[0m\u001b[0;34m(\u001b[0m\u001b[0mtrain_dataloader\u001b[0m\u001b[0;34m.\u001b[0m\u001b[0mdataset\u001b[0m\u001b[0;34m)\u001b[0m\u001b[0;34m)\u001b[0m\u001b[0;34m\u001b[0m\u001b[0;34m\u001b[0m\u001b[0m\n",
      "\u001b[0;32m~/.local/lib/python3.8/site-packages/torch/optim/optimizer.py\u001b[0m in \u001b[0;36mwrapper\u001b[0;34m(*args, **kwargs)\u001b[0m\n\u001b[1;32m     87\u001b[0m                 \u001b[0mprofile_name\u001b[0m \u001b[0;34m=\u001b[0m \u001b[0;34m\"Optimizer.step#{}.step\"\u001b[0m\u001b[0;34m.\u001b[0m\u001b[0mformat\u001b[0m\u001b[0;34m(\u001b[0m\u001b[0mobj\u001b[0m\u001b[0;34m.\u001b[0m\u001b[0m__class__\u001b[0m\u001b[0;34m.\u001b[0m\u001b[0m__name__\u001b[0m\u001b[0;34m)\u001b[0m\u001b[0;34m\u001b[0m\u001b[0;34m\u001b[0m\u001b[0m\n\u001b[1;32m     88\u001b[0m                 \u001b[0;32mwith\u001b[0m \u001b[0mtorch\u001b[0m\u001b[0;34m.\u001b[0m\u001b[0mautograd\u001b[0m\u001b[0;34m.\u001b[0m\u001b[0mprofiler\u001b[0m\u001b[0;34m.\u001b[0m\u001b[0mrecord_function\u001b[0m\u001b[0;34m(\u001b[0m\u001b[0mprofile_name\u001b[0m\u001b[0;34m)\u001b[0m\u001b[0;34m:\u001b[0m\u001b[0;34m\u001b[0m\u001b[0;34m\u001b[0m\u001b[0m\n\u001b[0;32m---> 89\u001b[0;31m                     \u001b[0;32mreturn\u001b[0m \u001b[0mfunc\u001b[0m\u001b[0;34m(\u001b[0m\u001b[0;34m*\u001b[0m\u001b[0margs\u001b[0m\u001b[0;34m,\u001b[0m \u001b[0;34m**\u001b[0m\u001b[0mkwargs\u001b[0m\u001b[0;34m)\u001b[0m\u001b[0;34m\u001b[0m\u001b[0;34m\u001b[0m\u001b[0m\n\u001b[0m\u001b[1;32m     90\u001b[0m             \u001b[0;32mreturn\u001b[0m \u001b[0mwrapper\u001b[0m\u001b[0;34m\u001b[0m\u001b[0;34m\u001b[0m\u001b[0m\n\u001b[1;32m     91\u001b[0m \u001b[0;34m\u001b[0m\u001b[0m\n",
      "\u001b[0;32m~/.local/lib/python3.8/site-packages/torch/autograd/grad_mode.py\u001b[0m in \u001b[0;36mdecorate_context\u001b[0;34m(*args, **kwargs)\u001b[0m\n\u001b[1;32m     25\u001b[0m         \u001b[0;32mdef\u001b[0m \u001b[0mdecorate_context\u001b[0m\u001b[0;34m(\u001b[0m\u001b[0;34m*\u001b[0m\u001b[0margs\u001b[0m\u001b[0;34m,\u001b[0m \u001b[0;34m**\u001b[0m\u001b[0mkwargs\u001b[0m\u001b[0;34m)\u001b[0m\u001b[0;34m:\u001b[0m\u001b[0;34m\u001b[0m\u001b[0;34m\u001b[0m\u001b[0m\n\u001b[1;32m     26\u001b[0m             \u001b[0;32mwith\u001b[0m \u001b[0mself\u001b[0m\u001b[0;34m.\u001b[0m\u001b[0m__class__\u001b[0m\u001b[0;34m(\u001b[0m\u001b[0;34m)\u001b[0m\u001b[0;34m:\u001b[0m\u001b[0;34m\u001b[0m\u001b[0;34m\u001b[0m\u001b[0m\n\u001b[0;32m---> 27\u001b[0;31m                 \u001b[0;32mreturn\u001b[0m \u001b[0mfunc\u001b[0m\u001b[0;34m(\u001b[0m\u001b[0;34m*\u001b[0m\u001b[0margs\u001b[0m\u001b[0;34m,\u001b[0m \u001b[0;34m**\u001b[0m\u001b[0mkwargs\u001b[0m\u001b[0;34m)\u001b[0m\u001b[0;34m\u001b[0m\u001b[0;34m\u001b[0m\u001b[0m\n\u001b[0m\u001b[1;32m     28\u001b[0m         \u001b[0;32mreturn\u001b[0m \u001b[0mcast\u001b[0m\u001b[0;34m(\u001b[0m\u001b[0mF\u001b[0m\u001b[0;34m,\u001b[0m \u001b[0mdecorate_context\u001b[0m\u001b[0;34m)\u001b[0m\u001b[0;34m\u001b[0m\u001b[0;34m\u001b[0m\u001b[0m\n\u001b[1;32m     29\u001b[0m \u001b[0;34m\u001b[0m\u001b[0m\n",
      "\u001b[0;32m~/.local/lib/python3.8/site-packages/torch/optim/adam.py\u001b[0m in \u001b[0;36mstep\u001b[0;34m(self, closure)\u001b[0m\n\u001b[1;32m    106\u001b[0m \u001b[0;34m\u001b[0m\u001b[0m\n\u001b[1;32m    107\u001b[0m             \u001b[0mbeta1\u001b[0m\u001b[0;34m,\u001b[0m \u001b[0mbeta2\u001b[0m \u001b[0;34m=\u001b[0m \u001b[0mgroup\u001b[0m\u001b[0;34m[\u001b[0m\u001b[0;34m'betas'\u001b[0m\u001b[0;34m]\u001b[0m\u001b[0;34m\u001b[0m\u001b[0;34m\u001b[0m\u001b[0m\n\u001b[0;32m--> 108\u001b[0;31m             F.adam(params_with_grad,\n\u001b[0m\u001b[1;32m    109\u001b[0m                    \u001b[0mgrads\u001b[0m\u001b[0;34m,\u001b[0m\u001b[0;34m\u001b[0m\u001b[0;34m\u001b[0m\u001b[0m\n\u001b[1;32m    110\u001b[0m                    \u001b[0mexp_avgs\u001b[0m\u001b[0;34m,\u001b[0m\u001b[0;34m\u001b[0m\u001b[0;34m\u001b[0m\u001b[0m\n",
      "\u001b[0;32m~/.local/lib/python3.8/site-packages/torch/optim/_functional.py\u001b[0m in \u001b[0;36madam\u001b[0;34m(params, grads, exp_avgs, exp_avg_sqs, max_exp_avg_sqs, state_steps, amsgrad, beta1, beta2, lr, weight_decay, eps)\u001b[0m\n\u001b[1;32m     90\u001b[0m             \u001b[0mdenom\u001b[0m \u001b[0;34m=\u001b[0m \u001b[0;34m(\u001b[0m\u001b[0mmax_exp_avg_sqs\u001b[0m\u001b[0;34m[\u001b[0m\u001b[0mi\u001b[0m\u001b[0;34m]\u001b[0m\u001b[0;34m.\u001b[0m\u001b[0msqrt\u001b[0m\u001b[0;34m(\u001b[0m\u001b[0;34m)\u001b[0m \u001b[0;34m/\u001b[0m \u001b[0mmath\u001b[0m\u001b[0;34m.\u001b[0m\u001b[0msqrt\u001b[0m\u001b[0;34m(\u001b[0m\u001b[0mbias_correction2\u001b[0m\u001b[0;34m)\u001b[0m\u001b[0;34m)\u001b[0m\u001b[0;34m.\u001b[0m\u001b[0madd_\u001b[0m\u001b[0;34m(\u001b[0m\u001b[0meps\u001b[0m\u001b[0;34m)\u001b[0m\u001b[0;34m\u001b[0m\u001b[0;34m\u001b[0m\u001b[0m\n\u001b[1;32m     91\u001b[0m         \u001b[0;32melse\u001b[0m\u001b[0;34m:\u001b[0m\u001b[0;34m\u001b[0m\u001b[0;34m\u001b[0m\u001b[0m\n\u001b[0;32m---> 92\u001b[0;31m             \u001b[0mdenom\u001b[0m \u001b[0;34m=\u001b[0m \u001b[0;34m(\u001b[0m\u001b[0mexp_avg_sq\u001b[0m\u001b[0;34m.\u001b[0m\u001b[0msqrt\u001b[0m\u001b[0;34m(\u001b[0m\u001b[0;34m)\u001b[0m \u001b[0;34m/\u001b[0m \u001b[0mmath\u001b[0m\u001b[0;34m.\u001b[0m\u001b[0msqrt\u001b[0m\u001b[0;34m(\u001b[0m\u001b[0mbias_correction2\u001b[0m\u001b[0;34m)\u001b[0m\u001b[0;34m)\u001b[0m\u001b[0;34m.\u001b[0m\u001b[0madd_\u001b[0m\u001b[0;34m(\u001b[0m\u001b[0meps\u001b[0m\u001b[0;34m)\u001b[0m\u001b[0;34m\u001b[0m\u001b[0;34m\u001b[0m\u001b[0m\n\u001b[0m\u001b[1;32m     93\u001b[0m \u001b[0;34m\u001b[0m\u001b[0m\n\u001b[1;32m     94\u001b[0m         \u001b[0mstep_size\u001b[0m \u001b[0;34m=\u001b[0m \u001b[0mlr\u001b[0m \u001b[0;34m/\u001b[0m \u001b[0mbias_correction1\u001b[0m\u001b[0;34m\u001b[0m\u001b[0;34m\u001b[0m\u001b[0m\n",
      "\u001b[0;31mKeyboardInterrupt\u001b[0m: "
     ]
    }
   ],
   "source": [
    "lrs = [1e-5,1e-4, 1e-3, 1e-2]\n",
    "\n",
    "for lr in lrs:\n",
    "    \n",
    "    model_delta = MLFFNN(hidden_dim).to(device)\n",
    "    model_ada_delta = MLFFNN(hidden_dim).to(device)\n",
    "    model_adam = MLFFNN(hidden_dim).to(device)\n",
    "    \n",
    "    optimizer_delta = optim.SGD(model_delta.parameters(), lr=lr, momentum=0)\n",
    "    optimizer_ada_delta = optim.SGD(model_ada_delta.parameters(),lr=lr,momentum=.7)\n",
    "    optimizer_adam = optim.Adam(model_adam.parameters(), lr=lr)\n",
    "\n",
    "    loss_delta,acc_delta,epoch_delta = train_model(optimizer_delta, model_delta,\"model_delta\")\n",
    "    loss_ada_delta,acc_ada_delta,epoch_ada_delta = train_model(optimizer_ada_delta, model_ada_delta,\"model_ada_delta\")\n",
    "    loss_adam,acc_adam,epoch_adam = train_model(optimizer_adam, model_adam,\"model_adam\")\n",
    "\n",
    "    epochs = [epoch_delta,epoch_ada_delta,epoch_adam]\n",
    "    \n",
    "    plot_comparative(loss_delta,loss_ada_delta,loss_adam,epochs,lr,\"train\",loss_or_accuracy=\"loss\")\n",
    "    plot_comparative(loss_delta,loss_ada_delta,loss_adam,epochs,lr,\"val\",loss_or_accuracy=\"loss\")\n",
    "    \n",
    "    plot_comparative(acc_delta,acc_ada_delta,acc_adam,epochs,lr,\"train\",loss_or_accuracy=\"accuracy\")\n",
    "    plot_comparative(acc_delta,acc_ada_delta,acc_adam,epochs,lr,\"val\",loss_or_accuracy=\"accuracy\")\n",
    "\n",
    "    plot_confusion_matrix(lr,\"model_delta.pth\",train_dataloader)\n",
    "    plot_confusion_matrix(lr,\"model_ada_delta.pth\",train_dataloader)\n",
    "    plot_confusion_matrix(lr,\"model_adam.pth\",train_dataloader)\n",
    "\n",
    "    plot_confusion_matrix(lr,\"model_delta.pth\",val_dataloader)\n",
    "    plot_confusion_matrix(lr,\"model_ada_delta.pth\",val_dataloader)\n",
    "    plot_confusion_matrix(lr,\"model_adam.pth\",val_dataloader)"
   ]
  },
  {
   "cell_type": "code",
   "execution_count": 52,
   "id": "a24b7380",
   "metadata": {},
   "outputs": [
    {
     "data": {
      "text/plain": [
       "{'train': [1.6459316832678659, 1.643900922366551],\n",
       " 'val': [1.6505801916122436, 1.6483957767486572]}"
      ]
     },
     "execution_count": 52,
     "metadata": {},
     "output_type": "execute_result"
    }
   ],
   "source": [
    "loss_delta"
   ]
  },
  {
   "cell_type": "code",
   "execution_count": 53,
   "id": "70b7ffcf",
   "metadata": {},
   "outputs": [
    {
     "data": {
      "text/plain": [
       "1"
      ]
     },
     "execution_count": 53,
     "metadata": {},
     "output_type": "execute_result"
    }
   ],
   "source": [
    "epochs[0]"
   ]
  },
  {
   "cell_type": "code",
   "execution_count": null,
   "id": "8b2a433c",
   "metadata": {},
   "outputs": [],
   "source": []
  }
 ],
 "metadata": {
  "kernelspec": {
   "display_name": "Python 3 (ipykernel)",
   "language": "python",
   "name": "python3"
  },
  "language_info": {
   "codemirror_mode": {
    "name": "ipython",
    "version": 3
   },
   "file_extension": ".py",
   "mimetype": "text/x-python",
   "name": "python",
   "nbconvert_exporter": "python",
   "pygments_lexer": "ipython3",
   "version": "3.8.10"
  }
 },
 "nbformat": 4,
 "nbformat_minor": 5
}
