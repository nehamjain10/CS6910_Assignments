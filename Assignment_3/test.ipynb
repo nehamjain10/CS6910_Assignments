{
 "cells": [
  {
   "cell_type": "code",
   "execution_count": 1,
   "metadata": {},
   "outputs": [],
   "source": [
    "%load_ext autoreload\n",
    "%autoreload 2"
   ]
  },
  {
   "cell_type": "code",
   "execution_count": 2,
   "metadata": {},
   "outputs": [],
   "source": [
    "import glob\n",
    "from dataset import ImageCaption\n",
    "from sklearn.model_selection import train_test_split\n",
    "import torch.nn as nn\n",
    "import torch\n",
    "import torch.optim as optim\n",
    "from torch.utils.data import TensorDataset, DataLoader\n",
    "import torchvision.transforms as transforms\n",
    "from models import *\n",
    "import numpy as np\n",
    "from torchtext.data.metrics import bleu_score\n",
    "from utils import *\n",
    "from torchtext.data.utils import get_tokenizer\n",
    "\n",
    "input_size = 224\n",
    "device = torch.device(\"cuda\" if torch.cuda.is_available() else \"cpu\")\n",
    "\n",
    "data_transforms = {\n",
    "    'train': transforms.Compose([\n",
    "        transforms.RandomResizedCrop(input_size),\n",
    "        transforms.RandomHorizontalFlip(),\n",
    "        transforms.ToTensor(),\n",
    "        transforms.Normalize([0.485, 0.456, 0.406], [0.229, 0.224, 0.225])\n",
    "    ]),\n",
    "    'val': transforms.Compose([\n",
    "        transforms.Resize(input_size),\n",
    "        transforms.CenterCrop(input_size),\n",
    "        transforms.ToTensor(),\n",
    "        transforms.Normalize([0.485, 0.456, 0.406], [0.229, 0.224, 0.225])\n",
    "    ]),\n",
    "}\n",
    "\n",
    "\n",
    "tokenizer = get_tokenizer('spacy', language='en_core_web_sm')\n",
    "captions_vocab = build_vocab(\"image_captions/image_mapping and captions/12/captions.txt\", tokenizer)"
   ]
  },
  {
   "cell_type": "code",
   "execution_count": 11,
   "metadata": {},
   "outputs": [],
   "source": [
    "\n",
    "\n",
    "image_cap_dataset_train = ImageCaption(\"image_captions/image_mapping and captions/12/image_names.txt\", \n",
    "                                        \"image_captions/image_mapping and captions/12/captions.txt\",data_transforms[\"train\"],\"train\")\n",
    "image_cap_dataset_test = ImageCaption(\"image_captions/image_mapping and captions/12/image_names.txt\",\n",
    "                                        \"image_captions/image_mapping and captions/12/captions.txt\",data_transforms[\"val\"],\"val\")\n",
    "\n",
    "\n",
    "image_cap_train_dataloader  = DataLoader(image_cap_dataset_train, batch_size=2,num_workers=10, shuffle=True)\n",
    "image_capt_test_dataloader  = DataLoader(image_cap_dataset_test, batch_size=2,num_workers=10, shuffle=False)\n",
    "\n",
    "embed_size = 300\n",
    "hidden_size = 32\n",
    "lr = 3e-4\n",
    "MAX_EPOCHS = 50\n",
    "\n",
    "encoder = EncoderCNN(embed_size).to(device)\n",
    "decoder = DecoderRNN(embed_size, hidden_size, len(captions_vocab)).to(device)\n",
    "\n",
    "# Loss and optimizer\n",
    "criterion = nn.CrossEntropyLoss()\n",
    "params = list(decoder.parameters()) + list(encoder.linear.parameters()) + list(encoder.bn.parameters())\n",
    "\n",
    "optimizer = torch.optim.Adam(params, lr=lr)"
   ]
  },
  {
   "cell_type": "code",
   "execution_count": 17,
   "metadata": {},
   "outputs": [
    {
     "name": "stdout",
     "output_type": "stream",
     "text": [
      "tensor([[   2, 5612,  520,   15,    4,   14,   13,   41,   97,  179,  125,    4,\n",
      "           92,    5,    3,    1,    1,    1,    1,    1],\n",
      "        [   2,    6,   32,  253,   10,   26,  381,   96,  206,   11,   53,    9,\n",
      "            4,   61,  390,    5,    3,    1,    1,    1]])\n"
     ]
    }
   ],
   "source": [
    "for image,embedding_vector,tokens in image_cap_train_dataloader:\n",
    "    print(tokens)\n",
    "    break"
   ]
  },
  {
   "cell_type": "code",
   "execution_count": null,
   "metadata": {},
   "outputs": [],
   "source": []
  }
 ],
 "metadata": {
  "interpreter": {
   "hash": "c5e076fb618145f5fc0ee75211ab0cef3f23db70858170546aaefb49107fdf35"
  },
  "kernelspec": {
   "display_name": "Python 3.9.5 ('seathru')",
   "language": "python",
   "name": "python3"
  },
  "language_info": {
   "codemirror_mode": {
    "name": "ipython",
    "version": 3
   },
   "file_extension": ".py",
   "mimetype": "text/x-python",
   "name": "python",
   "nbconvert_exporter": "python",
   "pygments_lexer": "ipython3",
   "version": "3.9.5"
  },
  "orig_nbformat": 4
 },
 "nbformat": 4,
 "nbformat_minor": 2
}
