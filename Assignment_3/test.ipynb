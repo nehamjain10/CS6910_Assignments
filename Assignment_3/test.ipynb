{
 "cells": [
  {
   "cell_type": "code",
   "execution_count": 1,
   "metadata": {},
   "outputs": [],
   "source": [
    "%load_ext autoreload\n",
    "%autoreload 2"
   ]
  },
  {
   "cell_type": "code",
   "execution_count": 39,
   "metadata": {},
   "outputs": [],
   "source": [
    "from dataset import ImageCaptionTest\n",
    "import torch.nn as nn\n",
    "import torch\n",
    "from torch.utils.data import DataLoader\n",
    "import torchvision.transforms as transforms\n",
    "import numpy as np\n",
    "from torchtext.data.metrics import bleu_score\n",
    "from utils import *\n",
    "from torchtext.data.utils import get_tokenizer\n",
    "import imageio\n",
    "\n",
    "input_size = 224\n",
    "device = torch.device(\"cuda\" if torch.cuda.is_available() else \"cpu\")\n",
    "\n",
    "data_transforms = {\n",
    "    'train': transforms.Compose([\n",
    "        transforms.RandomResizedCrop(input_size),\n",
    "        transforms.RandomHorizontalFlip(),\n",
    "        transforms.ToTensor(),\n",
    "        transforms.Normalize([0.485, 0.456, 0.406], [0.229, 0.224, 0.225])\n",
    "    ]),\n",
    "    'val': transforms.Compose([\n",
    "        transforms.Resize(input_size),\n",
    "        transforms.CenterCrop(input_size),\n",
    "        transforms.ToTensor(),\n",
    "        transforms.Normalize([0.485, 0.456, 0.406], [0.229, 0.224, 0.225])\n",
    "    ]),\n",
    "}\n",
    "\n",
    "\n",
    "\n",
    "tokenizer = get_tokenizer('spacy', language='en_core_web_sm')\n",
    "captions_vocab = build_vocab(\"image_captions/image_mapping and captions/12/captions.txt\", tokenizer)\n",
    "\n",
    "\n",
    "image_cap_dataset_test = ImageCaptionTest(\"image_captions/image_mapping and captions/12/image_names.txt\",\n",
    "                                        \"image_captions/image_mapping and captions/12/captions.txt\",\n",
    "                                        captions_vocab,data_transforms[\"val\"],\"val\")\n",
    "\n",
    "\n",
    "image_capt_test_dataloader  = DataLoader(image_cap_dataset_test, batch_size=1,num_workers=12, shuffle=False)\n",
    "\n",
    "itos = captions_vocab.get_itos() \n",
    "\n",
    "embed_size = 300\n",
    "hidden_size = 128\n",
    "lr = 3e-4\n",
    "MAX_EPOCHS = 500\n",
    "\n",
    "is_lstm = False\n",
    "\n",
    "if is_lstm:\n",
    "    encoder = torch.load(\"weights/encoder_lstm.pth\")\n",
    "    decoder = torch.load(\"weights/decoder_lstm.pth\")\n",
    "else:\n",
    "    encoder = torch.load(\"weights/encoder_rnn.pth\")\n",
    "    decoder = torch.load(\"weights/decoder_rnn.pth\")\n",
    "\n",
    "n_inv = transforms.Normalize([-0.485/0.229, -0.456/0.224, -0.406/0.225], [1/0.229, 1/0.224, 1/0.225])\n",
    "\n",
    "with torch.no_grad():  \n",
    "    # set the evaluation mode\n",
    "    encoder.eval()\n",
    "    decoder.eval()\n",
    "    pred_captions = []\n",
    "    gt_captions = []\n",
    "    for i, (images,caption) in enumerate(image_capt_test_dataloader):\n",
    "        # Set mini-batch dataset\n",
    "        images = images.to(device)        \n",
    "        # Forward, backward and optimize\n",
    "        features = encoder(images)\n",
    "        outputs = decoder.greedy_sample(features)\n",
    "        images = n_inv(images)\n",
    "        images = images.cpu().numpy()\n",
    "        images = np.moveaxis(images, 1, -1)\n",
    "\n",
    "        for j in range(outputs.shape[0]):\n",
    "            caption_pred = []\n",
    "            for tokens in outputs[j][1:]:\n",
    "                if itos[tokens]==\"<eos>\":\n",
    "                    break\n",
    "                else:\n",
    "                    caption_pred.append(itos[tokens])\n",
    "            pred_captions.append(caption_pred)\n",
    "            gt_captions.append(caption)\n",
    "            #imageio.imwrite(\"results_lstm/{}.jpg\".format(i), np.uint8(255*images[j]))        \n",
    "\n",
    "\n"
   ]
  },
  {
   "cell_type": "code",
   "execution_count": null,
   "metadata": {},
   "outputs": [],
   "source": [
    "with open('captions_rnn.txt', 'w') as f:\n",
    "    for item in pred_captions:\n",
    "        f.write(\"%s\\n\" % ' '.join(item))"
   ]
  },
  {
   "cell_type": "code",
   "execution_count": 32,
   "metadata": {},
   "outputs": [],
   "source": [
    "gt_captions_new = []\n",
    "\n",
    "for i in range(len(gt_captions)):\n",
    "    temp1 = []\n",
    "    for j in gt_captions[i]:\n",
    "        temp2 = []\n",
    "        for k in j:\n",
    "            temp2.append(k[0])\n",
    "        temp1.append(temp2)\n",
    "    \n",
    "    gt_captions_new.append(temp1)"
   ]
  },
  {
   "cell_type": "code",
   "execution_count": 33,
   "metadata": {},
   "outputs": [
    {
     "name": "stdout",
     "output_type": "stream",
     "text": [
      "0.597748339176178\n"
     ]
    }
   ],
   "source": [
    "print(bleu_score(pred_captions, gt_captions_new,max_n=1,weights=[1]))\n"
   ]
  },
  {
   "cell_type": "code",
   "execution_count": 25,
   "metadata": {},
   "outputs": [
    {
     "data": {
      "text/plain": [
       "['A',\n",
       " 'man',\n",
       " 'in',\n",
       " 'a',\n",
       " 'red',\n",
       " 'shirt',\n",
       " 'and',\n",
       " 'blue',\n",
       " 'shorts',\n",
       " 'is',\n",
       " 'jumping',\n",
       " 'into',\n",
       " 'the',\n",
       " 'air',\n",
       " '.']"
      ]
     },
     "execution_count": 25,
     "metadata": {},
     "output_type": "execute_result"
    }
   ],
   "source": [
    "pred_captions[4]"
   ]
  },
  {
   "cell_type": "code",
   "execution_count": 35,
   "metadata": {},
   "outputs": [
    {
     "name": "stdout",
     "output_type": "stream",
     "text": [
      "0.597748339176178\n",
      "0.2454044222831726\n",
      "0.10893217474222183\n",
      "0.048564184457063675\n"
     ]
    }
   ],
   "source": [
    "print(bleu_score(pred_captions, gt_captions_new,max_n=1,weights=[1]))\n",
    "print(bleu_score(pred_captions, gt_captions_new,max_n=2,weights=[0,1]))\n",
    "print(bleu_score(pred_captions, gt_captions_new,max_n=3,weights=[0,0,1]))\n",
    "print(bleu_score(pred_captions, gt_captions_new,max_n=4,weights=[0,0,0,1]))"
   ]
  },
  {
   "cell_type": "code",
   "execution_count": 11,
   "metadata": {},
   "outputs": [
    {
     "name": "stdout",
     "output_type": "stream",
     "text": [
      "0.05399688333272934\n"
     ]
    }
   ],
   "source": [
    "print(bleu_score(pred_captions, gt_captions_new,max_n=3,weights=[0,0,1]))"
   ]
  },
  {
   "cell_type": "code",
   "execution_count": 9,
   "metadata": {},
   "outputs": [
    {
     "name": "stdout",
     "output_type": "stream",
     "text": [
      "0.048564184457063675\n"
     ]
    }
   ],
   "source": [
    "print(bleu_score(pred_captions, gt_captions_new,max_n=4,weights=[0,0,0,1]))"
   ]
  },
  {
   "cell_type": "code",
   "execution_count": 12,
   "metadata": {},
   "outputs": [
    {
     "name": "stdout",
     "output_type": "stream",
     "text": [
      "0.16690456867218018\n"
     ]
    }
   ],
   "source": [
    "print(bleu_score(pred_captions, gt_captions_new))"
   ]
  },
  {
   "cell_type": "code",
   "execution_count": null,
   "metadata": {},
   "outputs": [],
   "source": []
  },
  {
   "cell_type": "code",
   "execution_count": 16,
   "metadata": {},
   "outputs": [
    {
     "name": "stdout",
     "output_type": "stream",
     "text": [
      "['A', 'man', 'in', 'a', 'black', 'shirt', 'is', 'standing', 'next', 'to', 'a', 'man', 'in', 'a', 'wheelchair', '.'] [['A', 'father', 'and', 'a', 'child', 'are', 'playing', 'in', 'the', 'pool'], ['A', 'frightened', 'little', 'boy', 'being', 'pulled', 'up', 'and', 'out', 'of', 'a', 'pool', 'by', 'his', 'father', '.'], ['A', 'man', 'is', 'pulling', 'a', 'little', 'boy', 'out', 'of', 'the', 'water', '.'], ['A', 'man', 'lifting', 'a', 'little', 'boy', 'out', 'of', 'the', 'water', '.'], ['Small', 'boy', 'wearing', 'a', 'blue', 'shirt', 'being', 'brought', 'up', 'out', 'of', 'water', 'by', 'man', 'in', 'white', 'shirt', 'and', 'wearing', 'glasses', '.']]\n"
     ]
    }
   ],
   "source": [
    "print(pred_captions[1],gt_captions_new[1])"
   ]
  }
 ],
 "metadata": {
  "interpreter": {
   "hash": "c5e076fb618145f5fc0ee75211ab0cef3f23db70858170546aaefb49107fdf35"
  },
  "kernelspec": {
   "display_name": "Python 3.9.5 ('seathru')",
   "language": "python",
   "name": "python3"
  },
  "language_info": {
   "codemirror_mode": {
    "name": "ipython",
    "version": 3
   },
   "file_extension": ".py",
   "mimetype": "text/x-python",
   "name": "python",
   "nbconvert_exporter": "python",
   "pygments_lexer": "ipython3",
   "version": "3.9.5"
  },
  "orig_nbformat": 4
 },
 "nbformat": 4,
 "nbformat_minor": 2
}
