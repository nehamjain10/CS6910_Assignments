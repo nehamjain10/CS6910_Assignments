{
 "cells": [
  {
   "cell_type": "code",
   "execution_count": 1,
   "metadata": {},
   "outputs": [],
   "source": [
    "%load_ext autoreload\n",
    "%autoreload 2"
   ]
  },
  {
   "cell_type": "code",
   "execution_count": 2,
   "metadata": {},
   "outputs": [],
   "source": [
    "from dataset import ImageCaption\n",
    "import torch.nn as nn\n",
    "import torch\n",
    "from torch.utils.data import DataLoader\n",
    "import torchvision.transforms as transforms\n",
    "from models import *\n",
    "import numpy as np\n",
    "from torchtext.data.metrics import bleu_score\n",
    "from utils import *\n",
    "from torchtext.data.utils import get_tokenizer\n",
    "import imageio\n",
    "\n",
    "\n",
    "input_size = 224\n",
    "device = torch.device(\"cuda\" if torch.cuda.is_available() else \"cpu\")\n",
    "\n",
    "data_transforms = {\n",
    "    'train': transforms.Compose([\n",
    "        transforms.RandomResizedCrop(input_size),\n",
    "        transforms.RandomHorizontalFlip(),\n",
    "        transforms.ToTensor(),\n",
    "        transforms.Normalize([0.485, 0.456, 0.406], [0.229, 0.224, 0.225])\n",
    "    ]),\n",
    "    'val': transforms.Compose([\n",
    "        transforms.Resize(input_size),\n",
    "        transforms.CenterCrop(input_size),\n",
    "        transforms.ToTensor(),\n",
    "        transforms.Normalize([0.485, 0.456, 0.406], [0.229, 0.224, 0.225])\n",
    "    ]),\n",
    "}\n",
    "\n",
    "\n",
    "tokenizer = get_tokenizer('spacy', language='en_core_web_sm')\n",
    "captions_vocab = build_vocab(\"image_captions/image_mapping and captions/12/captions.txt\", tokenizer)\n",
    "\n",
    "image_cap_dataset_train = ImageCaption(\"image_captions/image_mapping and captions/12/image_names.txt\", \n",
    "                                        \"image_captions/image_mapping and captions/12/captions.txt\",\n",
    "                                        captions_vocab,data_transforms[\"train\"],\"train\")\n",
    "image_cap_dataset_test = ImageCaption(\"image_captions/image_mapping and captions/12/image_names.txt\",\n",
    "                                        \"image_captions/image_mapping and captions/12/captions.txt\",\n",
    "                                        captions_vocab,data_transforms[\"val\"],\"val\")\n",
    "\n",
    "\n",
    "image_cap_train_dataloader  = DataLoader(image_cap_dataset_train, batch_size=16,num_workers=12, shuffle=True)\n",
    "image_capt_test_dataloader  = DataLoader(image_cap_dataset_test, batch_size=16,num_workers=12, shuffle=False)\n",
    "\n",
    "itos = captions_vocab.get_itos() \n",
    "\n",
    "embed_size = 300\n",
    "hidden_size = 128\n",
    "lr = 3e-4\n",
    "MAX_EPOCHS = 500\n",
    "\n",
    "encoder = torch.load(\"weights/encoder_weights.pt\")\n",
    "decoder = torch.load(\"weights/decoder_weigts.pt\")\n"
   ]
  },
  {
   "cell_type": "code",
   "execution_count": 9,
   "metadata": {},
   "outputs": [
    {
     "name": "stdout",
     "output_type": "stream",
     "text": [
      "['a', 'a', 'a', 'a', 'a', 'a', 'a', 'a', 'a', 'a', 'a', 'a', 'a', 'a', 'a', 'a', 'a', 'a', 'a', 'a']\n",
      "['<bos>', 'A', 'child', 'stands', 'in', 'front', 'of', 'a', 'dancing', 'wedding', 'party', '.', '<eos>', '<pad>', '<pad>', '<pad>', '<pad>', '<pad>', '<pad>', '<pad>']\n"
     ]
    }
   ],
   "source": [
    "with torch.no_grad():  \n",
    "    # set the evaluation mode\n",
    "    encoder.eval()\n",
    "    decoder.eval()\n",
    "\n",
    "    for i, (images,embedding_vector,token_numbers,lengths) in enumerate(image_capt_test_dataloader):\n",
    "        # Set mini-batch dataset\n",
    "        images = images.to(device)\n",
    "        embedding_vector = embedding_vector.to(device)\n",
    "        token_numbers = token_numbers.to(device)\n",
    "        \n",
    "        # Forward, backward and optimize\n",
    "        features = encoder(images)\n",
    "        outputs = decoder.sample(features)\n",
    "        images = images.cpu().numpy()\n",
    "        images = np.moveaxis(images, 1, -1)\n",
    "        for i in range(outputs.shape[0]):\n",
    "            caption = []\n",
    "            gt_caption = []\n",
    "            for tokens in outputs[i]:\n",
    "                caption.append(itos[tokens])\n",
    "            for tokens in token_numbers[i]:\n",
    "                gt_caption.append(itos[tokens])\n",
    "            #imageio.imwrite(\"results/{}.jpg\".format(i), images[i])\n",
    "            print(caption)\n",
    "            print(gt_caption)\n",
    "            break\n",
    "        break       "
   ]
  },
  {
   "cell_type": "code",
   "execution_count": null,
   "metadata": {},
   "outputs": [],
   "source": []
  }
 ],
 "metadata": {
  "interpreter": {
   "hash": "c5e076fb618145f5fc0ee75211ab0cef3f23db70858170546aaefb49107fdf35"
  },
  "kernelspec": {
   "display_name": "Python 3.9.5 ('seathru')",
   "language": "python",
   "name": "python3"
  },
  "language_info": {
   "codemirror_mode": {
    "name": "ipython",
    "version": 3
   },
   "file_extension": ".py",
   "mimetype": "text/x-python",
   "name": "python",
   "nbconvert_exporter": "python",
   "pygments_lexer": "ipython3",
   "version": "3.9.5"
  },
  "orig_nbformat": 4
 },
 "nbformat": 4,
 "nbformat_minor": 2
}
