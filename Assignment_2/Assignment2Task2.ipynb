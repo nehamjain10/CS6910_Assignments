{
  "nbformat": 4,
  "nbformat_minor": 0,
  "metadata": {
    "colab": {
      "name": "Assignment2Task2.ipynb",
      "provenance": [],
      "collapsed_sections": []
    },
    "kernelspec": {
      "name": "python3",
      "display_name": "Python 3"
    },
    "language_info": {
      "name": "python"
    },
    "accelerator": "GPU"
  },
  "cells": [
    {
      "cell_type": "code",
      "source": [
        "import torch\n",
        "import matplotlib.pyplot as plt\n",
        "import pandas as pd\n",
        "from torch.utils.data import TensorDataset, DataLoader\n",
        "from torch import nn, optim\n",
        "from torch.autograd import Variable\n",
        "from sklearn.model_selection import train_test_split\n",
        "import numpy as np\n",
        "from sklearn.metrics import confusion_matrix\n",
        "import seaborn as sns\n",
        "\n",
        "device = torch.device(\"cuda\") if torch.cuda.is_available() else torch.device(\"cpu\")"
      ],
      "metadata": {
        "id": "SQOd7MTj5D1P"
      },
      "execution_count": 1,
      "outputs": []
    },
    {
      "cell_type": "code",
      "source": [
        "# Renaming y of the column by mapping each of the images to its output\n",
        "# 0 - cavallo\n",
        "# 1 - elefante\n",
        "# 2 - farfalla\n",
        "# 3 - gallina\n",
        "# 4 - gatto\n",
        "\n",
        "df1 = pd.read_csv('/content/cavallo.csv', header=None)\n",
        "df1.rename(columns={0: 'y'}, inplace=True)\n",
        "df1 = df1.assign(y=0)\n",
        "\n",
        "df2 = pd.read_csv('/content/elefante.csv', header=None)\n",
        "df2.rename(columns={0: 'y'}, inplace=True)\n",
        "df2 = df2.assign(y=1)\n",
        "\n",
        "df3 = pd.read_csv('/content/farfalla.csv', header=None)\n",
        "df3.rename(columns={0: 'y'}, inplace=True)\n",
        "df3 = df3.assign(y=2)\n",
        "\n",
        "df4 = pd.read_csv('/content/gallina.csv', header=None)\n",
        "df4.rename(columns={0: 'y'}, inplace=True)\n",
        "df4 = df4.assign(y=3)\n",
        "\n",
        "df5 = pd.read_csv('/content/gatto.csv', header=None)\n",
        "df5.rename(columns={0: 'y'}, inplace=True)\n",
        "df5 = df5.assign(y=4)\n",
        "\n",
        "# Cleaning up the dataframe by deleting the last column\n",
        "df1.drop(df1.columns[len(df1.columns)-1], axis=1, inplace=True)\n",
        "df2.drop(df2.columns[len(df2.columns)-1], axis=1, inplace=True)\n",
        "df3.drop(df3.columns[len(df3.columns)-1], axis=1, inplace=True)\n",
        "df4.drop(df4.columns[len(df4.columns)-1], axis=1, inplace=True)\n",
        "df5.drop(df5.columns[len(df5.columns)-1], axis=1, inplace=True)\n",
        "\n",
        "frames = [df1, df2, df3, df4, df5]\n",
        "df = pd.concat(frames)"
      ],
      "metadata": {
        "id": "zEplMdkMlvS7"
      },
      "execution_count": 2,
      "outputs": []
    },
    {
      "cell_type": "code",
      "source": [
        "X = df.drop(columns = ['y']).copy()\n",
        "y = df['y']\n",
        "\n",
        "X = np.array(X)\n",
        "y = np.array(y)"
      ],
      "metadata": {
        "id": "-0_z3Dv54__7"
      },
      "execution_count": 3,
      "outputs": []
    },
    {
      "cell_type": "code",
      "execution_count": 6,
      "metadata": {
        "id": "KSuAfEhx37c7"
      },
      "outputs": [],
      "source": [
        "class AANN1(nn.Module):\n",
        "    def __init__(self):\n",
        "        super().__init__()\n",
        "          \n",
        "        self.encoder = nn.Sequential(\n",
        "            nn.Linear(48, 40),\n",
        "            nn.Tanh(),\n",
        "            nn.Linear(40, 32)\n",
        "        )\n",
        "        self.decoder = nn.Sequential(\n",
        "            nn.Linear(32, 40),\n",
        "            nn.Tanh(),\n",
        "            nn.Linear(40, 48),\n",
        "        )\n",
        "          \n",
        "    def forward(self, x):\n",
        "        encoded = self.encoder(x)\n",
        "        decoded = self.decoder(encoded)\n",
        "        return decoded"
      ]
    },
    {
      "cell_type": "markdown",
      "source": [
        "## Training the first layer of Autoencoder"
      ],
      "metadata": {
        "id": "WOzYadJE8rUn"
      }
    },
    {
      "cell_type": "code",
      "source": [
        "BATCH_SIZE = 1\n",
        "loader = DataLoader(TensorDataset(torch.tensor(X), torch.tensor(y)), batch_size = BATCH_SIZE, shuffle = True)\n",
        "\n",
        "AANN1 = AANN1()\n",
        "AANN1.to(device)\n",
        "\n",
        "loss_function = nn.MSELoss(reduction = 'mean')\n",
        "  \n",
        "optimizer = optim.Adam(AANN1.parameters(), lr = 3e-4, weight_decay = 1e-8)\n",
        "\n",
        "epochs = 10\n",
        "losses = []\n",
        "for epoch in range(epochs):\n",
        "  for (histogram, _) in loader:      \n",
        "    # Output of Autoencoder\n",
        "    AANN1.train()\n",
        "    histogram = histogram.type(torch.float32).to(device)\n",
        "    optimizer.zero_grad()\n",
        "\n",
        "    reconstructed = AANN1(histogram)\n",
        "    reconstructed = reconstructed.squeeze()\n",
        "    # Calculating the loss\n",
        "    histogram = histogram.squeeze()\n",
        "    loss = loss_function(reconstructed, histogram)\n",
        "      \n",
        "    # The gradients are set to zero,\n",
        "    # the the gradient is computed and stored.\n",
        "    # .step() performs parameter update\n",
        "    loss.backward()\n",
        "    optimizer.step()\n",
        "      \n",
        "    # Storing the losses in a list for plotting\n",
        "    losses.append(loss.detach().cpu().numpy())\n",
        "  \n",
        "# Defining the Plot Style\n",
        "plt.style.use('fivethirtyeight')\n",
        "plt.xlabel('Iterations')\n",
        "plt.ylabel('Loss')\n",
        "  \n",
        "plt.plot(losses[:100])"
      ],
      "metadata": {
        "id": "-2MOqMq9sSwo",
        "colab": {
          "base_uri": "https://localhost:8080/",
          "height": 336
        },
        "outputId": "b7cea62d-732d-44cb-821a-e41c7f8e4ba9"
      },
      "execution_count": 11,
      "outputs": [
        {
          "output_type": "execute_result",
          "data": {
            "text/plain": [
              "[<matplotlib.lines.Line2D at 0x7f83dbed9110>]"
            ]
          },
          "metadata": {},
          "execution_count": 11
        },
        {
          "output_type": "display_data",
          "data": {
            "text/plain": [
              "<Figure size 432x288 with 1 Axes>"
            ],
            "image/png": "[encoded data removed]"
          },
          "metadata": {}
        }
      ]
    },
    {
      "cell_type": "code",
      "source": [
        "activation = {}\n",
        "def get_activation(name):\n",
        "    def hook(AANN1, input, output):\n",
        "        activation[name] = output.detach()\n",
        "    return hook\n",
        "\n",
        "\n",
        "AANN1.encoder.register_forward_hook(get_activation('encoder'))\n",
        "Z1 = []\n",
        "Y1 = []\n",
        "\n",
        "AANN1.eval()\n",
        "for (histogram, _) in loader:\n",
        "    with torch.no_grad():\n",
        "        histogram = histogram.type(torch.float32).to(device)\n",
        "        output = AANN1(histogram)\n",
        "        Z1.append(activation['encoder'].squeeze().detach().cpu().numpy())\n",
        "        Y1.append(_)"
      ],
      "metadata": {
        "id": "OI_978F90hYo"
      },
      "execution_count": 12,
      "outputs": []
    },
    {
      "cell_type": "markdown",
      "source": [
        "## Training the second layer of the autoencoder"
      ],
      "metadata": {
        "id": "cLxWYkIq8vq7"
      }
    },
    {
      "cell_type": "code",
      "source": [
        "class AANN2(nn.Module):\n",
        "    def __init__(self):\n",
        "        super().__init__()\n",
        "          \n",
        "        self.encoder = nn.Sequential(\n",
        "            nn.Linear(32, 24),\n",
        "            nn.Tanh(),\n",
        "            nn.Linear(24, 16)\n",
        "        )\n",
        "        self.decoder = nn.Sequential(\n",
        "            nn.Linear(16, 24),\n",
        "            nn.Tanh(),\n",
        "            nn.Linear(24, 32)\n",
        "        )\n",
        "\n",
        "    def forward(self, x):\n",
        "        encoded = self.encoder(x)\n",
        "        decoded = self.decoder(encoded)\n",
        "        return decoded"
      ],
      "metadata": {
        "id": "kss2e6Zr_isw"
      },
      "execution_count": 13,
      "outputs": []
    },
    {
      "cell_type": "code",
      "source": [
        "BATCH_SIZE = 1\n",
        "loader = DataLoader(TensorDataset(torch.tensor(Z1), torch.tensor(Y1)), batch_size = BATCH_SIZE, shuffle = True)\n",
        "\n",
        "AANN2 = AANN2()\n",
        "AANN2.to(device)\n",
        "\n",
        "loss_function = nn.MSELoss(reduction = 'mean')\n",
        "  \n",
        "optimizer = optim.Adam(AANN2.parameters(), lr = 3e-4, weight_decay = 1e-8)\n",
        "\n",
        "epochs = 10\n",
        "losses = []\n",
        "for epoch in range(epochs):\n",
        "  for (histogram, _) in loader:      \n",
        "    # Output of Autoencoder\n",
        "    AANN2.train()\n",
        "    histogram = histogram.type(torch.float32).to(device)\n",
        "    optimizer.zero_grad()\n",
        "\n",
        "    reconstructed = AANN2(histogram)\n",
        "    reconstructed = reconstructed.squeeze()\n",
        "    # Calculating the loss\n",
        "    histogram = histogram.squeeze()\n",
        "    loss = loss_function(reconstructed, histogram)\n",
        "      \n",
        "    # The gradients are set to zero,\n",
        "    # the the gradient is computed and stored.\n",
        "    # .step() performs parameter update\n",
        "    loss.backward()\n",
        "    optimizer.step()\n",
        "      \n",
        "    # Storing the losses in a list for plotting\n",
        "    losses.append(loss.detach().cpu().numpy())\n",
        "  \n",
        "# Defining the Plot Style\n",
        "plt.style.use('fivethirtyeight')\n",
        "plt.xlabel('Iterations')\n",
        "plt.ylabel('Loss')\n",
        "  \n",
        "plt.plot(losses[:100])"
      ],
      "metadata": {
        "colab": {
          "base_uri": "https://localhost:8080/",
          "height": 377
        },
        "id": "fE3QNGoi76qr",
        "outputId": "e58f5708-2201-4e45-a83b-8b77925feca6"
      },
      "execution_count": 14,
      "outputs": [
        {
          "output_type": "stream",
          "name": "stderr",
          "text": [
            "/usr/local/lib/python3.7/dist-packages/ipykernel_launcher.py:2: UserWarning: Creating a tensor from a list of numpy.ndarrays is extremely slow. Please consider converting the list to a single numpy.ndarray with numpy.array() before converting to a tensor. (Triggered internally at  ../torch/csrc/utils/tensor_new.cpp:201.)\n",
            "  \n"
          ]
        },
        {
          "output_type": "execute_result",
          "data": {
            "text/plain": [
              "[<matplotlib.lines.Line2D at 0x7f83daaed890>]"
            ]
          },
          "metadata": {},
          "execution_count": 14
        },
        {
          "output_type": "display_data",
          "data": {
            "text/plain": [
              "<Figure size 432x288 with 1 Axes>"
            ],
            "image/png": "[encoded data removed]"
          },
          "metadata": {}
        }
      ]
    },
    {
      "cell_type": "code",
      "source": [
        "activation = {}\n",
        "def get_activation(name):\n",
        "    def hook(AANN2, input, output):\n",
        "        activation[name] = output.detach()\n",
        "    return hook\n",
        "\n",
        "\n",
        "AANN2.encoder.register_forward_hook(get_activation('encoder'))\n",
        "Z2 = []\n",
        "Y2 = []\n",
        "\n",
        "AANN2.eval()\n",
        "for (histogram, _) in loader:\n",
        "    with torch.no_grad():\n",
        "        histogram = histogram.type(torch.float32).to(device)\n",
        "        output = AANN2(histogram)\n",
        "        Z2.append(activation['encoder'].squeeze().detach().cpu().numpy())\n",
        "        Y2.append(_)"
      ],
      "metadata": {
        "id": "sLZp05Ag8zkI"
      },
      "execution_count": 15,
      "outputs": []
    },
    {
      "cell_type": "markdown",
      "source": [
        "## Training the third layer of autoencoder"
      ],
      "metadata": {
        "id": "TElcwEHq85ew"
      }
    },
    {
      "cell_type": "code",
      "source": [
        "class AANN3(nn.Module):\n",
        "    def __init__(self):\n",
        "        super().__init__()\n",
        "          \n",
        "        self.encoder = nn.Sequential(\n",
        "            nn.Linear(16, 12),\n",
        "            nn.Tanh(),\n",
        "            nn.Linear(12, 8)\n",
        "        )\n",
        "        self.decoder = nn.Sequential(\n",
        "            nn.Linear(8, 12),\n",
        "            nn.Tanh(),\n",
        "            nn.Linear(12, 16)\n",
        "        )\n",
        "  \n",
        "    def forward(self, x):\n",
        "        encoded = self.encoder(x)\n",
        "        decoded = self.decoder(encoded)\n",
        "        return decoded"
      ],
      "metadata": {
        "id": "BikFlK5G_lRr"
      },
      "execution_count": 16,
      "outputs": []
    },
    {
      "cell_type": "code",
      "source": [
        "BATCH_SIZE = 1\n",
        "loader = DataLoader(TensorDataset(torch.tensor(Z2), torch.tensor(Y2)), batch_size = BATCH_SIZE, shuffle = True)\n",
        "\n",
        "AANN3 = AANN3()\n",
        "AANN3.to(device)\n",
        "\n",
        "loss_function = nn.MSELoss(reduction = 'mean')\n",
        "  \n",
        "optimizer = optim.Adam(AANN3.parameters(), lr = 3e-4, weight_decay = 1e-8)\n",
        "\n",
        "epochs = 10\n",
        "losses = []\n",
        "for epoch in range(epochs):\n",
        "  for (histogram, _) in loader:      \n",
        "    # Output of Autoencoder\n",
        "    AANN3.train()\n",
        "    histogram = histogram.type(torch.float32).to(device)\n",
        "    optimizer.zero_grad()\n",
        "\n",
        "    reconstructed = AANN3(histogram)\n",
        "    reconstructed = reconstructed.squeeze()\n",
        "    # Calculating the loss\n",
        "    histogram = histogram.squeeze()\n",
        "    loss = loss_function(reconstructed, histogram)\n",
        "      \n",
        "    # The gradients are set to zero,\n",
        "    # the the gradient is computed and stored.\n",
        "    # .step() performs parameter update\n",
        "    loss.backward()\n",
        "    optimizer.step()\n",
        "      \n",
        "    # Storing the losses in a list for plotting\n",
        "    losses.append(loss.detach().cpu().numpy())\n",
        "  \n",
        "# Defining the Plot Style\n",
        "plt.style.use('fivethirtyeight')\n",
        "plt.xlabel('Iterations')\n",
        "plt.ylabel('Loss')\n",
        "  \n",
        "plt.plot(losses[:100])"
      ],
      "metadata": {
        "colab": {
          "base_uri": "https://localhost:8080/",
          "height": 322
        },
        "id": "0PTsyynr887l",
        "outputId": "14337ed6-40c7-4b28-cbc5-45c43ff5bd36"
      },
      "execution_count": 17,
      "outputs": [
        {
          "output_type": "execute_result",
          "data": {
            "text/plain": [
              "[<matplotlib.lines.Line2D at 0x7f83d98670d0>]"
            ]
          },
          "metadata": {},
          "execution_count": 17
        },
        {
          "output_type": "display_data",
          "data": {
            "text/plain": [
              "<Figure size 432x288 with 1 Axes>"
            ],
            "image/png": "[encoded data removed]"
          },
          "metadata": {}
        }
      ]
    },
    {
      "cell_type": "code",
      "source": [
        "activation = {}\n",
        "def get_activation(name):\n",
        "    def hook(AANN3, input, output):\n",
        "        activation[name] = output.detach()\n",
        "    return hook\n",
        "\n",
        "\n",
        "AANN3.encoder.register_forward_hook(get_activation('encoder'))\n",
        "Z3 = []\n",
        "Y3 = []\n",
        "\n",
        "AANN3.eval()\n",
        "for (histogram, _) in loader:\n",
        "    with torch.no_grad():\n",
        "        histogram = histogram.type(torch.float32).to(device)\n",
        "        output = AANN3(histogram)\n",
        "        Z3.append(activation['encoder'].squeeze().detach().cpu().numpy())\n",
        "        Y3.append(_)"
      ],
      "metadata": {
        "id": "eQPvsfsL89xx"
      },
      "execution_count": 12,
      "outputs": []
    },
    {
      "cell_type": "code",
      "source": [
        "class StackedAutoEncoder(nn.Module):\n",
        "    def __init__(self):\n",
        "        super(StackedAutoEncoder, self).__init__()\n",
        "        AANN1.train()\n",
        "        AANN2.train()\n",
        "        AANN3.train()\n",
        "        self.ae1 = AANN1.encoder\n",
        "        self.ae2 = AANN2.encoder\n",
        "        self.ae3 = AANN3.encoder\n",
        "        self.DNN = nn.Sequential(\n",
        "            nn.Linear(8, 5),\n",
        "            nn.Softmax(dim = 1)\n",
        "        )\n",
        "\n",
        "    def forward(self, x):\n",
        "        a1 = self.ae1(x)\n",
        "        a2 = self.ae2(a1)\n",
        "        a3 = self.ae3(a2)\n",
        "        ouput = self.DNN(a3)\n",
        "        return output"
      ],
      "metadata": {
        "id": "EpO4YU6CjLSA"
      },
      "execution_count": 22,
      "outputs": []
    },
    {
      "cell_type": "code",
      "source": [
        "BATCH_SIZE = 1\n",
        "X_train, X_test, y_train, y_test = train_test_split(X, y, train_size=0.8, stratify = y)\n",
        "train_dataloader = DataLoader(TensorDataset(torch.tensor(X_train), torch.tensor(y_train)), batch_size = BATCH_SIZE, shuffle = True)\n",
        "test_dataloader = DataLoader(TensorDataset(torch.tensor(X_test), torch.tensor(y_test)), batch_size = BATCH_SIZE, shuffle = True)\n",
        "\n",
        "model = StackedAutoEncoder()\n",
        "model.to(device)\n",
        "loss_function = nn.CrossEntropyLoss(reduction = 'mean')\n",
        "optimizer = optim.Adam(model.parameters(), lr = 3e-4, weight_decay = 1e-8)\n",
        "\n",
        "train_loss_list = list()\n",
        "epochs = 50\n",
        "accuracy_metrics = {\n",
        "  'train': [],\n",
        "  'test': []\n",
        "}\n",
        "\n",
        "for epoch in range(epochs):\n",
        "    temp_loss_list = list()\n",
        "    correct_classified = 0\n",
        "    for x_train, y_train in train_dataloader:\n",
        "        model.train()\n",
        "        x_train = x_train.type(torch.float32).to(device)\n",
        "        y_train = y_train.type(torch.long).to(device)\n",
        "        optimizer.zero_grad()\n",
        "\n",
        "        # Output of Autoencoder\n",
        "        output = model(x_train)\n",
        "        # Calculating the loss function\n",
        "        loss = loss_function(output, y_train)\n",
        "        loss.backward()\n",
        "        optimizer.step()\n",
        "        temp_loss_list.append(loss.detach().cpu().numpy())\n",
        "        max_indices = torch.argmax(output, dim=1)\n",
        "        correct_classified +=  (max_indices == y_train).float().sum()\n",
        "          \n",
        "        # Storing the losses in a list for plotting\n",
        "    train_loss_list.append(np.average(temp_loss_list))\n",
        "    accuracy_metrics[\"train\"].append(correct_classified.item() / len(train_dataloader.dataset))\n",
        "    print(\"epoch:\", epoch)\n",
        "    print(\"Train Accuracy: \", correct_classified.item() / len(train_dataloader.dataset))\n",
        "  \n",
        "correct_classified = 0\n",
        "model.eval()\n",
        "test_loss_list = list()\n",
        "for X_test, y_test in test_dataloader:\n",
        "    X_test = X_test.type(torch.float32).to(device)\n",
        "    y_test = y_test.type(torch.long).to(device)\n",
        "\n",
        "    score = model(X_test)\n",
        "    loss = loss_function(input=score, target=y_test)\n",
        "\n",
        "    test_loss_list.append(loss.detach().cpu().numpy())\n",
        "    max_indices = torch.argmax(score, dim=1)\n",
        "    correct_classified +=  (max_indices == y_test).float().sum()\n",
        "\n",
        "accuracy_metrics[\"test\"].append(correct_classified.item() / len(test_dataloader.dataset))\n",
        "test_loss_list.append(np.average(test_loss_list))\n",
        "\n",
        "print(\"Train average loss: %.5f\" %train_loss_list[-1])\n",
        "print(\"Test average loss: %.5f\" %test_loss_list[-1])\n",
        "print(\"Test Accuracy: %.5f\" %accuracy_metrics['test'][0])\n",
        "# Defining the Plot Style\n",
        "plt.style.use('fivethirtyeight')\n",
        "plt.xlabel('Iterations')\n",
        "plt.ylabel('Loss')\n",
        "  \n",
        "plt.plot(train_loss_list)\n",
        "\n"
      ],
      "metadata": {
        "colab": {
          "base_uri": "https://localhost:8080/",
          "height": 407
        },
        "id": "1IjNVXFB3SwX",
        "outputId": "cabe02b4-88f9-409e-a33d-ae2c52d69962"
      },
      "execution_count": 23,
      "outputs": [
        {
          "output_type": "error",
          "ename": "RuntimeError",
          "evalue": "ignored",
          "traceback": [
            "\u001b[0;31m---------------------------------------------------------------------------\u001b[0m",
            "\u001b[0;31mRuntimeError\u001b[0m                              Traceback (most recent call last)",
            "\u001b[0;32m<ipython-input-23-51969dd9a517>\u001b[0m in \u001b[0;36m<module>\u001b[0;34m()\u001b[0m\n\u001b[1;32m     29\u001b[0m         \u001b[0;31m# Calculating the loss function\u001b[0m\u001b[0;34m\u001b[0m\u001b[0;34m\u001b[0m\u001b[0;34m\u001b[0m\u001b[0m\n\u001b[1;32m     30\u001b[0m         \u001b[0mloss\u001b[0m \u001b[0;34m=\u001b[0m \u001b[0mloss_function\u001b[0m\u001b[0;34m(\u001b[0m\u001b[0moutput\u001b[0m\u001b[0;34m,\u001b[0m \u001b[0my_train\u001b[0m\u001b[0;34m)\u001b[0m\u001b[0;34m\u001b[0m\u001b[0;34m\u001b[0m\u001b[0m\n\u001b[0;32m---> 31\u001b[0;31m         \u001b[0mloss\u001b[0m\u001b[0;34m.\u001b[0m\u001b[0mbackward\u001b[0m\u001b[0;34m(\u001b[0m\u001b[0;34m)\u001b[0m\u001b[0;34m\u001b[0m\u001b[0;34m\u001b[0m\u001b[0m\n\u001b[0m\u001b[1;32m     32\u001b[0m         \u001b[0moptimizer\u001b[0m\u001b[0;34m.\u001b[0m\u001b[0mstep\u001b[0m\u001b[0;34m(\u001b[0m\u001b[0;34m)\u001b[0m\u001b[0;34m\u001b[0m\u001b[0;34m\u001b[0m\u001b[0m\n\u001b[1;32m     33\u001b[0m         \u001b[0mtemp_loss_list\u001b[0m\u001b[0;34m.\u001b[0m\u001b[0mappend\u001b[0m\u001b[0;34m(\u001b[0m\u001b[0mloss\u001b[0m\u001b[0;34m.\u001b[0m\u001b[0mdetach\u001b[0m\u001b[0;34m(\u001b[0m\u001b[0;34m)\u001b[0m\u001b[0;34m.\u001b[0m\u001b[0mcpu\u001b[0m\u001b[0;34m(\u001b[0m\u001b[0;34m)\u001b[0m\u001b[0;34m.\u001b[0m\u001b[0mnumpy\u001b[0m\u001b[0;34m(\u001b[0m\u001b[0;34m)\u001b[0m\u001b[0;34m)\u001b[0m\u001b[0;34m\u001b[0m\u001b[0;34m\u001b[0m\u001b[0m\n",
            "\u001b[0;32m/usr/local/lib/python3.7/dist-packages/torch/_tensor.py\u001b[0m in \u001b[0;36mbackward\u001b[0;34m(self, gradient, retain_graph, create_graph, inputs)\u001b[0m\n\u001b[1;32m    305\u001b[0m                 \u001b[0mcreate_graph\u001b[0m\u001b[0;34m=\u001b[0m\u001b[0mcreate_graph\u001b[0m\u001b[0;34m,\u001b[0m\u001b[0;34m\u001b[0m\u001b[0;34m\u001b[0m\u001b[0m\n\u001b[1;32m    306\u001b[0m                 inputs=inputs)\n\u001b[0;32m--> 307\u001b[0;31m         \u001b[0mtorch\u001b[0m\u001b[0;34m.\u001b[0m\u001b[0mautograd\u001b[0m\u001b[0;34m.\u001b[0m\u001b[0mbackward\u001b[0m\u001b[0;34m(\u001b[0m\u001b[0mself\u001b[0m\u001b[0;34m,\u001b[0m \u001b[0mgradient\u001b[0m\u001b[0;34m,\u001b[0m \u001b[0mretain_graph\u001b[0m\u001b[0;34m,\u001b[0m \u001b[0mcreate_graph\u001b[0m\u001b[0;34m,\u001b[0m \u001b[0minputs\u001b[0m\u001b[0;34m=\u001b[0m\u001b[0minputs\u001b[0m\u001b[0;34m)\u001b[0m\u001b[0;34m\u001b[0m\u001b[0;34m\u001b[0m\u001b[0m\n\u001b[0m\u001b[1;32m    308\u001b[0m \u001b[0;34m\u001b[0m\u001b[0m\n\u001b[1;32m    309\u001b[0m     \u001b[0;32mdef\u001b[0m \u001b[0mregister_hook\u001b[0m\u001b[0;34m(\u001b[0m\u001b[0mself\u001b[0m\u001b[0;34m,\u001b[0m \u001b[0mhook\u001b[0m\u001b[0;34m)\u001b[0m\u001b[0;34m:\u001b[0m\u001b[0;34m\u001b[0m\u001b[0;34m\u001b[0m\u001b[0m\n",
            "\u001b[0;32m/usr/local/lib/python3.7/dist-packages/torch/autograd/__init__.py\u001b[0m in \u001b[0;36mbackward\u001b[0;34m(tensors, grad_tensors, retain_graph, create_graph, grad_variables, inputs)\u001b[0m\n\u001b[1;32m    154\u001b[0m     Variable._execution_engine.run_backward(\n\u001b[1;32m    155\u001b[0m         \u001b[0mtensors\u001b[0m\u001b[0;34m,\u001b[0m \u001b[0mgrad_tensors_\u001b[0m\u001b[0;34m,\u001b[0m \u001b[0mretain_graph\u001b[0m\u001b[0;34m,\u001b[0m \u001b[0mcreate_graph\u001b[0m\u001b[0;34m,\u001b[0m \u001b[0minputs\u001b[0m\u001b[0;34m,\u001b[0m\u001b[0;34m\u001b[0m\u001b[0;34m\u001b[0m\u001b[0m\n\u001b[0;32m--> 156\u001b[0;31m         allow_unreachable=True, accumulate_grad=True)  # allow_unreachable flag\n\u001b[0m\u001b[1;32m    157\u001b[0m \u001b[0;34m\u001b[0m\u001b[0m\n\u001b[1;32m    158\u001b[0m \u001b[0;34m\u001b[0m\u001b[0m\n",
            "\u001b[0;31mRuntimeError\u001b[0m: element 0 of tensors does not require grad and does not have a grad_fn"
          ]
        }
      ]
    },
    {
      "cell_type": "code",
      "source": [
        " "
      ],
      "metadata": {
        "id": "tbSd1Qiit29Q"
      },
      "execution_count": null,
      "outputs": []
    }
  ]
}
