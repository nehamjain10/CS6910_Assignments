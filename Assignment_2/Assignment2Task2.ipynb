{
  "cells": [
    {
      "cell_type": "code",
      "execution_count": 1,
      "metadata": {
        "id": "SQOd7MTj5D1P"
      },
      "outputs": [],
      "source": [
        "import torch\n",
        "import matplotlib.pyplot as plt\n",
        "import pandas as pd\n",
        "from torch.utils.data import TensorDataset, DataLoader\n",
        "from torch import nn, optim\n",
        "from torch.autograd import Variable\n",
        "from sklearn.model_selection import train_test_split\n",
        "import numpy as np\n",
        "from sklearn.metrics import confusion_matrix\n",
        "import seaborn as sns\n",
        "\n",
        "device = torch.device(\"cuda\") if torch.cuda.is_available() else torch.device(\"cpu\")"
      ]
    },
    {
      "cell_type": "code",
      "source": [
        "'''\n",
        "Code for early stopping from https://github.com/Bjarten/early-stopping-pytorch\n",
        "'''\n",
        "\n",
        "class EarlyStopping:\n",
        "    \"\"\"Early stops the training if validation loss doesn't improve after a given patience.\"\"\"\n",
        "    def __init__(self, patience=7, verbose=False, delta=0, path='checkpoint.pt', trace_func=print):\n",
        "        \"\"\"\n",
        "        Args:\n",
        "            patience (int): How long to wait after last time validation loss improved.\n",
        "                            Default: 7\n",
        "            verbose (bool): If True, prints a message for each validation loss improvement. \n",
        "                            Default: False\n",
        "            delta (float): Minimum change in the monitored quantity to qualify as an improvement.\n",
        "                            Default: 0\n",
        "            path (str): Path for the checkpoint to be saved to.\n",
        "                            Default: 'checkpoint.pt'\n",
        "            trace_func (function): trace print function.\n",
        "                            Default: print            \n",
        "        \"\"\"\n",
        "        self.patience = patience\n",
        "        self.verbose = verbose\n",
        "        self.counter = 0\n",
        "        self.best_score = None\n",
        "        self.early_stop = False\n",
        "        self.val_loss_min = np.Inf\n",
        "        self.delta = delta\n",
        "        self.path = path\n",
        "        self.trace_func = trace_func\n",
        "    def __call__(self, val_loss, model):\n",
        "\n",
        "        score = -val_loss\n",
        "\n",
        "        if self.best_score is None:\n",
        "            self.best_score = score\n",
        "            self.save_checkpoint(val_loss, model)\n",
        "        elif score < self.best_score + self.delta:\n",
        "            self.counter += 1\n",
        "            #self.trace_func(f'EarlyStopping counter: {self.counter} out of {self.patience}')\n",
        "            if self.counter >= self.patience:\n",
        "                self.early_stop = True\n",
        "        else:\n",
        "            self.best_score = score\n",
        "            self.save_checkpoint(val_loss, model)\n",
        "            self.counter = 0\n",
        "\n",
        "    def save_checkpoint(self, val_loss, model):\n",
        "        '''Saves model when validation loss decrease.'''\n",
        "        if self.verbose:\n",
        "            self.trace_func(f'Validation loss decreased ({self.val_loss_min:.6f} --> {val_loss:.6f}).  Saving model ...')\n",
        "        torch.save(model.state_dict(), self.path)\n",
        "        self.val_loss_min = val_loss"
      ],
      "metadata": {
        "id": "_ooSJndwvxry"
      },
      "execution_count": 12,
      "outputs": []
    },
    {
      "cell_type": "code",
      "execution_count": 6,
      "metadata": {
        "id": "zEplMdkMlvS7"
      },
      "outputs": [],
      "source": [
        "# Renaming y of the column by mapping each of the images to its output\n",
        "# 0 - cavallo\n",
        "# 1 - elefante\n",
        "# 2 - farfalla\n",
        "# 3 - gallina\n",
        "# 4 - gatto\n",
        "\n",
        "df1 = pd.read_csv('/content/cavallo.csv', header=None)\n",
        "df1.rename(columns={0: 'y'}, inplace=True)\n",
        "df1 = df1.assign(y=0)\n",
        "\n",
        "df2 = pd.read_csv('/content/elefante.csv', header=None)\n",
        "df2.rename(columns={0: 'y'}, inplace=True)\n",
        "df2 = df2.assign(y=1)\n",
        "\n",
        "df3 = pd.read_csv('/content/farfalla.csv', header=None)\n",
        "df3.rename(columns={0: 'y'}, inplace=True)\n",
        "df3 = df3.assign(y=2)\n",
        "\n",
        "df4 = pd.read_csv('/content/gallina.csv', header=None)\n",
        "df4.rename(columns={0: 'y'}, inplace=True)\n",
        "df4 = df4.assign(y=3)\n",
        "\n",
        "df5 = pd.read_csv('/content/gatto.csv', header=None)\n",
        "df5.rename(columns={0: 'y'}, inplace=True)\n",
        "df5 = df5.assign(y=4)\n",
        "\n",
        "# Cleaning up the dataframe by deleting the last column\n",
        "df1.drop(df1.columns[len(df1.columns)-1], axis=1, inplace=True)\n",
        "df2.drop(df2.columns[len(df2.columns)-1], axis=1, inplace=True)\n",
        "df3.drop(df3.columns[len(df3.columns)-1], axis=1, inplace=True)\n",
        "df4.drop(df4.columns[len(df4.columns)-1], axis=1, inplace=True)\n",
        "df5.drop(df5.columns[len(df5.columns)-1], axis=1, inplace=True)\n",
        "\n",
        "frames = [df1, df2, df3, df4, df5]\n",
        "df = pd.concat(frames)"
      ]
    },
    {
      "cell_type": "code",
      "execution_count": 7,
      "metadata": {
        "id": "-0_z3Dv54__7"
      },
      "outputs": [],
      "source": [
        "X = df.drop(columns = ['y']).copy()\n",
        "y = df['y']\n",
        "\n",
        "X = np.array(X)\n",
        "y = np.array(y)"
      ]
    },
    {
      "cell_type": "code",
      "source": [
        "BATCH_SIZE = 32\n",
        "X_train, X_test, y_train, y_test = train_test_split(X, y, train_size=0.8, stratify = y)\n",
        "train_dataloader = DataLoader(TensorDataset(torch.tensor(X_train), torch.tensor(y_train)), batch_size = BATCH_SIZE, shuffle = True)\n",
        "test_dataloader = DataLoader(TensorDataset(torch.tensor(X_test), torch.tensor(y_test)), batch_size = BATCH_SIZE, shuffle = True)"
      ],
      "metadata": {
        "id": "C-3xJ-6QwNGE"
      },
      "execution_count": 8,
      "outputs": []
    },
    {
      "cell_type": "code",
      "execution_count": 9,
      "metadata": {
        "id": "KSuAfEhx37c7"
      },
      "outputs": [],
      "source": [
        "class AANN1(nn.Module):\n",
        "    def __init__(self):\n",
        "        super().__init__()\n",
        "          \n",
        "        self.encoder = nn.Sequential(\n",
        "            nn.Linear(48, 40),\n",
        "            nn.Tanh(),\n",
        "            nn.Linear(40, 32)\n",
        "        )\n",
        "        self.decoder = nn.Sequential(\n",
        "            nn.Linear(32, 40),\n",
        "            nn.Tanh(),\n",
        "            nn.Linear(40, 48),\n",
        "        )\n",
        "          \n",
        "    def forward(self, x):\n",
        "        encoded = self.encoder(x)\n",
        "        decoded = self.decoder(encoded)\n",
        "        return decoded"
      ]
    },
    {
      "cell_type": "markdown",
      "metadata": {
        "id": "WOzYadJE8rUn"
      },
      "source": [
        "## Training the first layer of Autoencoder"
      ]
    },
    {
      "cell_type": "code",
      "execution_count": 13,
      "metadata": {
        "colab": {
          "base_uri": "https://localhost:8080/",
          "height": 336
        },
        "id": "-2MOqMq9sSwo",
        "outputId": "0a692b00-4179-47c9-e774-c432f89bddcc"
      },
      "outputs": [
        {
          "output_type": "execute_result",
          "data": {
            "text/plain": [
              "[<matplotlib.lines.Line2D at 0x7fa590321850>]"
            ]
          },
          "metadata": {},
          "execution_count": 13
        },
        {
          "output_type": "display_data",
          "data": {
            "text/plain": [
              "<Figure size 432x288 with 1 Axes>"
            ],
            "image/png": "[encoded data removed]"
          },
          "metadata": {}
        }
      ],
      "source": [
        "SAE1 = AANN1()\n",
        "SAE1.to(device)\n",
        "\n",
        "loss_function = nn.MSELoss(reduction = 'mean')\n",
        "optimizer = optim.Adam(SAE1.parameters(), lr = 3e-4, weight_decay = 1e-8)\n",
        "early_stopping = EarlyStopping(patience=20)\n",
        "\n",
        "epochs = 100\n",
        "losses = []\n",
        "avg_test_loss = []\n",
        "for epoch in range(epochs):\n",
        "  SAE1.train()\n",
        "  for (histogram, _) in train_dataloader:      \n",
        "    # Moving histogram to device memory\n",
        "    histogram = histogram.type(torch.float32).to(device)\n",
        "    optimizer.zero_grad()\n",
        "    # Output of Autoencoder\n",
        "    reconstructed = SAE1(histogram)\n",
        "    reconstructed = reconstructed.squeeze()\n",
        "    # Calculating the loss\n",
        "    histogram = histogram.squeeze()\n",
        "    loss = loss_function(reconstructed, histogram)\n",
        "      \n",
        "    loss.backward()\n",
        "    optimizer.step()\n",
        "      \n",
        "    # Storing the losses in a list for plotting\n",
        "    losses.append(loss.detach().cpu().numpy())\n",
        "  \n",
        "  test_losses = []\n",
        "  SAE1.eval() # prep model for evaluation\n",
        "  for histogram, _ in test_dataloader:\n",
        "    histogram = histogram.type(torch.float32).to(device)\n",
        "    reconstructed = SAE1(histogram)\n",
        "    reconstructed = reconstructed.squeeze()\n",
        "    # calculate the loss\n",
        "    loss = loss_function(reconstructed, histogram)\n",
        "    # record validation loss\n",
        "    test_losses.append(loss.item())\n",
        "  \n",
        "  avg_test_loss.append(np.average(test_losses))\n",
        "  early_stopping(avg_test_loss[-1], SAE1)\n",
        "        \n",
        "  if early_stopping.early_stop:\n",
        "    print(\"Early stopping\")\n",
        "    break\n",
        "\n",
        "# Defining the Plot Style\n",
        "plt.style.use('fivethirtyeight')\n",
        "plt.xlabel('Iterations')\n",
        "plt.ylabel('Loss')\n",
        "  \n",
        "plt.plot(losses[:100])"
      ]
    },
    {
      "cell_type": "markdown",
      "metadata": {
        "id": "cLxWYkIq8vq7"
      },
      "source": [
        "## Training the second layer of the autoencoder"
      ]
    },
    {
      "cell_type": "code",
      "execution_count": 14,
      "metadata": {
        "id": "kss2e6Zr_isw"
      },
      "outputs": [],
      "source": [
        "class AANN2(nn.Module):\n",
        "    def __init__(self):\n",
        "        super().__init__()\n",
        "          \n",
        "        self.encoder = nn.Sequential(\n",
        "            nn.Linear(32, 24),\n",
        "            nn.Tanh(),\n",
        "            nn.Linear(24, 16)\n",
        "        )\n",
        "        self.decoder = nn.Sequential(\n",
        "            nn.Linear(16, 24),\n",
        "            nn.Tanh(),\n",
        "            nn.Linear(24, 32)\n",
        "        )\n",
        "\n",
        "    def forward(self, x):\n",
        "        encoded = self.encoder(x)\n",
        "        decoded = self.decoder(encoded)\n",
        "        return decoded"
      ]
    },
    {
      "cell_type": "code",
      "execution_count": 18,
      "metadata": {
        "colab": {
          "base_uri": "https://localhost:8080/",
          "height": 340
        },
        "id": "fE3QNGoi76qr",
        "outputId": "c09f71ba-0baa-4800-c3b1-4a687ea409c0"
      },
      "outputs": [
        {
          "output_type": "stream",
          "name": "stdout",
          "text": [
            "Early stopping\n"
          ]
        },
        {
          "output_type": "execute_result",
          "data": {
            "text/plain": [
              "[<matplotlib.lines.Line2D at 0x7fa5902cc510>]"
            ]
          },
          "metadata": {},
          "execution_count": 18
        },
        {
          "output_type": "display_data",
          "data": {
            "text/plain": [
              "<Figure size 432x288 with 1 Axes>"
            ],
            "image/png": "[encoded data removed]"
          },
          "metadata": {}
        }
      ],
      "source": [
        "# Freeze the weights of the first stacked encoder\n",
        "SAE1.eval()\n",
        "SAE2 = AANN2()\n",
        "SAE2.to(device)\n",
        "\n",
        "loss_function = nn.MSELoss(reduction = 'mean')\n",
        "optimizer = optim.Adam(SAE2.parameters(), lr = 3e-4, weight_decay = 1e-8)\n",
        "\n",
        "epochs = 100\n",
        "losses = []\n",
        "avg_test_loss = []\n",
        "for epoch in range(epochs):\n",
        "  SAE2.train()\n",
        "  for (histogram, _) in train_dataloader:      \n",
        "    histogram = histogram.type(torch.float32).to(device)\n",
        "    optimizer.zero_grad()\n",
        "\n",
        "    # Output of Autoencoder1\n",
        "    output_intermediate = SAE1.encoder(histogram)\n",
        "    # Ouptput of Autoencoder 2\n",
        "    reconstructed = SAE2(output_intermediate)\n",
        "    reconstructed = reconstructed.squeeze()\n",
        "    \n",
        "    # Calculating the loss\n",
        "    output_intermediate = output_intermediate.squeeze()\n",
        "    loss = loss_function(reconstructed, output_intermediate)\n",
        "\n",
        "    loss.backward()\n",
        "    optimizer.step()\n",
        "    losses.append(loss.detach().cpu().numpy())\n",
        "  \n",
        "  test_losses = []\n",
        "  SAE2.eval() # prep model for evaluation\n",
        "  for histogram, _ in test_dataloader:\n",
        "    histogram = histogram.type(torch.float32).to(device)\n",
        "    output_intermediate = SAE1.encoder(histogram)\n",
        "    reconstructed = SAE2(output_intermediate)\n",
        "    reconstructed = reconstructed.squeeze()\n",
        "    # calculate the loss\n",
        "    loss = loss_function(reconstructed, output_intermediate)\n",
        "    # record validation loss\n",
        "    test_losses.append(loss.item())\n",
        "  \n",
        "  avg_test_loss.append(np.average(test_losses))\n",
        "  early_stopping(avg_test_loss[-1], SAE2)\n",
        "        \n",
        "  if early_stopping.early_stop:\n",
        "    print(\"Early stopping\")\n",
        "    break\n",
        "  \n",
        "# Defining the Plot Style\n",
        "plt.style.use('fivethirtyeight')\n",
        "plt.xlabel('Iterations')\n",
        "plt.ylabel('Loss')\n",
        "  \n",
        "plt.plot(losses[:100])"
      ]
    },
    {
      "cell_type": "markdown",
      "metadata": {
        "id": "TElcwEHq85ew"
      },
      "source": [
        "## Training the third layer of autoencoder"
      ]
    },
    {
      "cell_type": "code",
      "execution_count": 19,
      "metadata": {
        "id": "BikFlK5G_lRr"
      },
      "outputs": [],
      "source": [
        "class AANN3(nn.Module):\n",
        "    def __init__(self):\n",
        "        super().__init__()\n",
        "          \n",
        "        self.encoder = nn.Sequential(\n",
        "            nn.Linear(16, 12),\n",
        "            nn.Tanh(),\n",
        "            nn.Linear(12, 8)\n",
        "        )\n",
        "        self.decoder = nn.Sequential(\n",
        "            nn.Linear(8, 12),\n",
        "            nn.Tanh(),\n",
        "            nn.Linear(12, 16)\n",
        "        )\n",
        "  \n",
        "    def forward(self, x):\n",
        "        encoded = self.encoder(x)\n",
        "        decoded = self.decoder(encoded)\n",
        "        return decoded"
      ]
    },
    {
      "cell_type": "code",
      "execution_count": 21,
      "metadata": {
        "colab": {
          "base_uri": "https://localhost:8080/",
          "height": 339
        },
        "id": "0PTsyynr887l",
        "outputId": "6ce6ab63-d841-4d35-ff8a-6b08486977f2"
      },
      "outputs": [
        {
          "output_type": "stream",
          "name": "stdout",
          "text": [
            "Early stopping\n"
          ]
        },
        {
          "output_type": "execute_result",
          "data": {
            "text/plain": [
              "[<matplotlib.lines.Line2D at 0x7fa590732ed0>]"
            ]
          },
          "metadata": {},
          "execution_count": 21
        },
        {
          "output_type": "display_data",
          "data": {
            "text/plain": [
              "<Figure size 432x288 with 1 Axes>"
            ],
            "image/png": "[encoded data removed]"
          },
          "metadata": {}
        }
      ],
      "source": [
        "SAE3 = AANN3()\n",
        "SAE3.to(device)\n",
        "loss_function = nn.MSELoss(reduction = 'mean')\n",
        "  \n",
        "optimizer = optim.Adam(SAE3.parameters(), lr = 3e-4, weight_decay = 1e-8)\n",
        "\n",
        "epochs = 10\n",
        "losses = []\n",
        "avg_test_loss = []\n",
        "SAE1.eval()\n",
        "SAE2.eval()\n",
        "for epoch in range(epochs):\n",
        "  SAE3.train()\n",
        "  for (histogram, _) in train_dataloader:\n",
        "    histogram = histogram.type(torch.float32).to(device)\n",
        "    optimizer.zero_grad()\n",
        "\n",
        "    output_1 = SAE1.encoder(histogram)\n",
        "    output_intermediate = SAE2.encoder(output_1)\n",
        "    reconstructed = SAE3(output_intermediate)\n",
        "    reconstructed = reconstructed.squeeze()\n",
        "    # Calculating the loss\n",
        "    output_1 = output_1.squeeze()\n",
        "    loss = loss_function(reconstructed, output_intermediate)\n",
        "      \n",
        "    # The gradients are set to zero,\n",
        "    # the the gradient is computed and stored.\n",
        "    # .step() performs parameter update\n",
        "    loss.backward()\n",
        "    optimizer.step()\n",
        "      \n",
        "    # Storing the losses in a list for plotting\n",
        "    losses.append(loss.detach().cpu().numpy())\n",
        "\n",
        "  test_losses = []\n",
        "  SAE3.eval() # prep model for evaluation\n",
        "  for histogram, _ in test_dataloader:\n",
        "    histogram = histogram.type(torch.float32).to(device)\n",
        "    output_1 = SAE1.encoder(histogram)\n",
        "    output_intermediate = SAE2.encoder(output_1)\n",
        "    reconstructed = SAE3(output_intermediate)\n",
        "    reconstructed = reconstructed.squeeze()\n",
        "    # calculate the loss\n",
        "    loss = loss_function(reconstructed, output_intermediate)\n",
        "    # record validation loss\n",
        "    test_losses.append(loss.item())\n",
        "  \n",
        "  avg_test_loss.append(np.average(test_losses))\n",
        "  early_stopping(avg_test_loss[-1], SAE2)\n",
        "        \n",
        "  if early_stopping.early_stop:\n",
        "    print(\"Early stopping\")\n",
        "    break\n",
        "  \n",
        "# Defining the Plot Style\n",
        "plt.style.use('fivethirtyeight')\n",
        "plt.xlabel('Iterations')\n",
        "plt.ylabel('Loss')\n",
        "  \n",
        "plt.plot(losses[:100])"
      ]
    },
    {
      "cell_type": "code",
      "execution_count": 22,
      "metadata": {
        "id": "EpO4YU6CjLSA"
      },
      "outputs": [],
      "source": [
        "class StackedAutoEncoder(nn.Module):\n",
        "    def __init__(self):\n",
        "        super(StackedAutoEncoder, self).__init__()\n",
        "        SAE1.train()\n",
        "        SAE2.train()\n",
        "        SAE3.train()\n",
        "        self.ae1 = SAE1.encoder\n",
        "        self.ae2 = SAE2.encoder\n",
        "        self.ae3 = SAE3.encoder\n",
        "        self.DNN = nn.Linear(8, 5)\n",
        "            \n",
        "    def forward(self, x):\n",
        "        a1 = self.ae1(x)\n",
        "        a2 = self.ae2(a1)\n",
        "        a3 = self.ae3(a2)\n",
        "        output = self.DNN(a3)\n",
        "        return output"
      ]
    },
    {
      "cell_type": "code",
      "execution_count": 23,
      "metadata": {
        "colab": {
          "base_uri": "https://localhost:8080/",
          "height": 1000
        },
        "id": "1IjNVXFB3SwX",
        "outputId": "778d6165-3d07-4aa0-b54f-0d64228bf17b"
      },
      "outputs": [
        {
          "output_type": "stream",
          "name": "stdout",
          "text": [
            "epoch: 0\n",
            "Train Accuracy:  0.285257508279091\n",
            "epoch: 1\n",
            "Train Accuracy:  0.33927143999086445\n",
            "epoch: 2\n",
            "Train Accuracy:  0.35365992919949757\n",
            "epoch: 3\n",
            "Train Accuracy:  0.36519355943816373\n",
            "epoch: 4\n",
            "Train Accuracy:  0.3677058353317346\n",
            "epoch: 5\n",
            "Train Accuracy:  0.3755852460888432\n",
            "epoch: 6\n",
            "Train Accuracy:  0.36473678200296905\n",
            "epoch: 7\n",
            "Train Accuracy:  0.3658787255909558\n",
            "epoch: 8\n",
            "Train Accuracy:  0.36793422404933196\n",
            "epoch: 9\n",
            "Train Accuracy:  0.36610711430855314\n",
            "epoch: 10\n",
            "Train Accuracy:  0.3671348635377412\n",
            "epoch: 11\n",
            "Train Accuracy:  0.36245289482699555\n",
            "epoch: 12\n",
            "Train Accuracy:  0.3672490578965399\n",
            "epoch: 13\n",
            "Train Accuracy:  0.3719310266072856\n",
            "epoch: 14\n",
            "Train Accuracy:  0.3738723307068631\n",
            "epoch: 15\n",
            "Train Accuracy:  0.3828936850519584\n",
            "epoch: 16\n",
            "Train Accuracy:  0.37535685737124586\n",
            "epoch: 17\n",
            "Train Accuracy:  0.3766129953180313\n",
            "epoch: 18\n",
            "Train Accuracy:  0.3800388260819916\n",
            "epoch: 19\n",
            "Train Accuracy:  0.37307297019527236\n",
            "epoch: 20\n",
            "Train Accuracy:  0.37501427429484985\n",
            "epoch: 21\n",
            "Train Accuracy:  0.37090327737809753\n",
            "epoch: 22\n",
            "Train Accuracy:  0.3704464999429028\n",
            "epoch: 23\n",
            "Train Accuracy:  0.3642800045677744\n",
            "epoch: 24\n",
            "Train Accuracy:  0.37181683224848694\n",
            "epoch: 25\n",
            "Train Accuracy:  0.3713600548132922\n",
            "epoch: 26\n",
            "Train Accuracy:  0.36702066917894255\n",
            "epoch: 27\n",
            "Train Accuracy:  0.36759164097293595\n",
            "epoch: 28\n",
            "Train Accuracy:  0.3775265501884207\n",
            "epoch: 29\n",
            "Train Accuracy:  0.3746716912184538\n",
            "epoch: 30\n",
            "Train Accuracy:  0.37695557839442734\n",
            "epoch: 31\n",
            "Train Accuracy:  0.37250199840127896\n",
            "epoch: 32\n",
            "Train Accuracy:  0.37375813634806443\n",
            "epoch: 33\n",
            "Train Accuracy:  0.3719310266072856\n",
            "epoch: 34\n",
            "Train Accuracy:  0.3745574968596551\n",
            "epoch: 35\n",
            "Train Accuracy:  0.37307297019527236\n",
            "epoch: 36\n",
            "Train Accuracy:  0.3691903619961174\n",
            "epoch: 37\n",
            "Train Accuracy:  0.37090327737809753\n",
            "epoch: 38\n",
            "Train Accuracy:  0.3697613337901108\n",
            "epoch: 39\n",
            "Train Accuracy:  0.37821171634121276\n",
            "epoch: 40\n",
            "Train Accuracy:  0.3635948384149823\n",
            "epoch: 41\n",
            "Train Accuracy:  0.36610711430855314\n",
            "epoch: 42\n",
            "Train Accuracy:  0.3673632522553386\n",
            "epoch: 43\n",
            "Train Accuracy:  0.3678200296905333\n",
            "epoch: 44\n",
            "Train Accuracy:  0.36188192303300215\n",
            "epoch: 45\n",
            "Train Accuracy:  0.36530775379696245\n",
            "epoch: 46\n",
            "Train Accuracy:  0.36987552814890945\n",
            "epoch: 47\n",
            "Train Accuracy:  0.36633550302615053\n",
            "epoch: 48\n",
            "Train Accuracy:  0.3704464999429028\n",
            "epoch: 49\n",
            "Train Accuracy:  0.3619961173918008\n",
            "Train average loss: 1.44970\n",
            "Test average loss: 1.47765\n",
            "Test Accuracy: 0.35571\n"
          ]
        },
        {
          "output_type": "execute_result",
          "data": {
            "text/plain": [
              "[<matplotlib.lines.Line2D at 0x7fa590249f50>]"
            ]
          },
          "metadata": {},
          "execution_count": 23
        },
        {
          "output_type": "display_data",
          "data": {
            "text/plain": [
              "<Figure size 432x288 with 1 Axes>"
            ],
            "image/png": "[encoded data removed]"
          },
          "metadata": {}
        }
      ],
      "source": [
        "model = StackedAutoEncoder()\n",
        "model.to(device)\n",
        "loss_function = nn.CrossEntropyLoss(reduction = 'mean')\n",
        "optimizer = optim.Adam(model.parameters(), lr = 3e-4, weight_decay = 1e-8)\n",
        "\n",
        "train_loss_list = list()\n",
        "epochs = 50\n",
        "accuracy_metrics = {\n",
        "  'train': [],\n",
        "  'test': []\n",
        "}\n",
        "\n",
        "for epoch in range(epochs):\n",
        "    temp_loss_list = list()\n",
        "    correct_classified = 0\n",
        "    for x_train, y_train in train_dataloader:\n",
        "        model.train()\n",
        "        x_train = x_train.type(torch.float32).to(device)\n",
        "        y_train = y_train.type(torch.long).to(device)\n",
        "        optimizer.zero_grad()\n",
        "\n",
        "        # Output of Autoencoder\n",
        "        output = model(x_train)\n",
        "        # Calculating the loss function\n",
        "        loss = loss_function(output, y_train)\n",
        "        loss.backward()\n",
        "        optimizer.step()\n",
        "        temp_loss_list.append(loss.detach().cpu().numpy())\n",
        "        max_indices = torch.argmax(output, dim=1)\n",
        "        correct_classified +=  (max_indices == y_train).float().sum()\n",
        "          \n",
        "        # Storing the losses in a list for plotting\n",
        "    train_loss_list.append(np.average(temp_loss_list))\n",
        "    accuracy_metrics[\"train\"].append(correct_classified.item() / len(train_dataloader.dataset))\n",
        "    print(\"epoch:\", epoch)\n",
        "    print(\"Train Accuracy: \", correct_classified.item() / len(train_dataloader.dataset))\n",
        "  \n",
        "correct_classified = 0\n",
        "model.eval()\n",
        "test_loss_list = list()\n",
        "for X_test, y_test in test_dataloader:\n",
        "    X_test = X_test.type(torch.float32).to(device)\n",
        "    y_test = y_test.type(torch.long).to(device)\n",
        "\n",
        "    score = model(X_test)\n",
        "    loss = loss_function(input=score, target=y_test)\n",
        "\n",
        "    test_loss_list.append(loss.detach().cpu().numpy())\n",
        "    max_indices = torch.argmax(score, dim=1)\n",
        "    correct_classified +=  (max_indices == y_test).float().sum()\n",
        "\n",
        "accuracy_metrics[\"test\"].append(correct_classified.item() / len(test_dataloader.dataset))\n",
        "test_loss_list.append(np.average(test_loss_list))\n",
        "\n",
        "print(\"Train average loss: %.5f\" %train_loss_list[-1])\n",
        "print(\"Test average loss: %.5f\" %test_loss_list[-1])\n",
        "print(\"Test Accuracy: %.5f\" %accuracy_metrics['test'][0])\n",
        "# Defining the Plot Style\n",
        "plt.style.use('fivethirtyeight')\n",
        "plt.xlabel('Iterations')\n",
        "plt.ylabel('Loss')\n",
        "  \n",
        "plt.plot(train_loss_list)\n",
        "\n"
      ]
    },
    {
      "cell_type": "code",
      "execution_count": null,
      "metadata": {
        "id": "tbSd1Qiit29Q"
      },
      "outputs": [],
      "source": [
        " "
      ]
    }
  ],
  "metadata": {
    "accelerator": "GPU",
    "colab": {
      "collapsed_sections": [],
      "name": "Assignment2Task2.ipynb",
      "provenance": []
    },
    "kernelspec": {
      "display_name": "Python 3",
      "name": "python3"
    },
    "language_info": {
      "codemirror_mode": {
        "name": "ipython",
        "version": 3
      },
      "file_extension": ".py",
      "mimetype": "text/x-python",
      "name": "python",
      "nbconvert_exporter": "python",
      "pygments_lexer": "ipython3",
      "version": "3.9.5"
    }
  },
  "nbformat": 4,
  "nbformat_minor": 0
}
