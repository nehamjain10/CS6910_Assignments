{
  "nbformat": 4,
  "nbformat_minor": 0,
  "metadata": {
    "colab": {
      "name": "Assignment2Task2.ipynb",
      "provenance": [],
      "collapsed_sections": []
    },
    "kernelspec": {
      "name": "python3",
      "display_name": "Python 3"
    },
    "language_info": {
      "name": "python"
    },
    "accelerator": "GPU"
  },
  "cells": [
    {
      "cell_type": "code",
      "source": [
        "import torch\n",
        "import matplotlib.pyplot as plt\n",
        "import pandas as pd\n",
        "from torch.utils.data import TensorDataset, DataLoader\n",
        "from torch import nn, optim\n",
        "from torch.autograd import Variable\n",
        "from sklearn.model_selection import train_test_split\n",
        "import numpy as np\n",
        "from sklearn.metrics import confusion_matrix\n",
        "import seaborn as sns\n",
        "\n",
        "device = torch.device(\"cuda\") if torch.cuda.is_available() else torch.device(\"cpu\")"
      ],
      "metadata": {
        "id": "SQOd7MTj5D1P"
      },
      "execution_count": 10,
      "outputs": []
    },
    {
      "cell_type": "code",
      "source": [
        "# Renaming y of the column by mapping each of the images to its output\n",
        "# 0 - cavallo\n",
        "# 1 - elefante\n",
        "# 2 - farfalla\n",
        "# 3 - gallina\n",
        "# 4 - gatto\n",
        "\n",
        "df1 = pd.read_csv('/content/cavallo.csv', header=None)\n",
        "df1.rename(columns={0: 'y'}, inplace=True)\n",
        "df1 = df1.assign(y=0)\n",
        "\n",
        "df2 = pd.read_csv('/content/elefante.csv', header=None)\n",
        "df2.rename(columns={0: 'y'}, inplace=True)\n",
        "df2 = df2.assign(y=1)\n",
        "\n",
        "df3 = pd.read_csv('/content/farfalla.csv', header=None)\n",
        "df3.rename(columns={0: 'y'}, inplace=True)\n",
        "df3 = df3.assign(y=2)\n",
        "\n",
        "df4 = pd.read_csv('/content/gallina.csv', header=None)\n",
        "df4.rename(columns={0: 'y'}, inplace=True)\n",
        "df4 = df4.assign(y=3)\n",
        "\n",
        "df5 = pd.read_csv('/content/gatto.csv', header=None)\n",
        "df5.rename(columns={0: 'y'}, inplace=True)\n",
        "df5 = df5.assign(y=4)\n",
        "\n",
        "# Cleaning up the dataframe by deleting the last column\n",
        "df1.drop(df1.columns[len(df1.columns)-1], axis=1, inplace=True)\n",
        "df2.drop(df2.columns[len(df2.columns)-1], axis=1, inplace=True)\n",
        "df3.drop(df3.columns[len(df3.columns)-1], axis=1, inplace=True)\n",
        "df4.drop(df4.columns[len(df4.columns)-1], axis=1, inplace=True)\n",
        "df5.drop(df5.columns[len(df5.columns)-1], axis=1, inplace=True)\n",
        "\n",
        "frames = [df1, df2, df3, df4, df5]\n",
        "df = pd.concat(frames)"
      ],
      "metadata": {
        "id": "zEplMdkMlvS7"
      },
      "execution_count": 11,
      "outputs": []
    },
    {
      "cell_type": "code",
      "source": [
        "X = df.drop(columns = ['y']).copy()\n",
        "y = df['y']\n",
        "\n",
        "X = np.array(X)\n",
        "y = np.array(y)\n",
        "#b = np.zeros((y.size, y.max()+1))\n",
        "#b[np.arange(y.size),y] = 1\n",
        "\n",
        "loader = DataLoader(TensorDataset(torch.tensor(X), torch.tensor(y)), batch_size = 1, shuffle = True)"
      ],
      "metadata": {
        "id": "-0_z3Dv54__7"
      },
      "execution_count": 37,
      "outputs": []
    },
    {
      "cell_type": "code",
      "execution_count": 35,
      "metadata": {
        "id": "KSuAfEhx37c7"
      },
      "outputs": [],
      "source": [
        "class AANN1(nn.Module):\n",
        "    def __init__(self):\n",
        "        super().__init__()\n",
        "          \n",
        "        self.encoder = nn.Sequential(\n",
        "            nn.Linear(48, 40),\n",
        "            nn.Tanh(),\n",
        "            nn.Linear(40, 32)\n",
        "        )\n",
        "        self.decoder = nn.Sequential(\n",
        "            nn.Linear(32, 40),\n",
        "            nn.Tanh(),\n",
        "            nn.Linear(40, 48),\n",
        "            #nn.Sigmoid()\n",
        "        )\n",
        "  \n",
        "    def forward(self, x):\n",
        "        encoded = self.encoder(x)\n",
        "        print(encoded)\n",
        "        decoded = self.decoder(encoded)\n",
        "        return decoded"
      ]
    },
    {
      "cell_type": "code",
      "source": [
        "class AANN2(nn.Module):\n",
        "    def __init__(self):\n",
        "        super().__init__()\n",
        "          \n",
        "        self.encoder = nn.Sequential(\n",
        "            nn.Linear(32, 24),\n",
        "            nn.Tanh(),\n",
        "            nn.Linear(24, 16)\n",
        "        )\n",
        "        self.decoder = nn.Sequential(\n",
        "            nn.Linear(16, 24),\n",
        "            nn.Tanh(),\n",
        "            nn.Linear(24, 32)\n",
        "        )\n",
        "\n",
        "  \n",
        "    def forward(self, x):\n",
        "        encoded = self.encoder(x)\n",
        "        decoded = self.decoder(encoded)\n",
        "        return decoded"
      ],
      "metadata": {
        "id": "kss2e6Zr_isw"
      },
      "execution_count": null,
      "outputs": []
    },
    {
      "cell_type": "code",
      "source": [
        "class AANN3(nn.Module):\n",
        "    def __init__(self):\n",
        "        super().__init__()\n",
        "          \n",
        "        self.encoder = nn.Sequential(\n",
        "            nn.Linear(16, 12),\n",
        "            nn.Tanh(),\n",
        "            nn.Linear(12, 8)\n",
        "        )\n",
        "        self.decoder = nn.Sequential(\n",
        "            nn.Linear(8, 12),\n",
        "            nn.Tanh(),\n",
        "            nn.Linear(12, 16)\n",
        "        )\n",
        "  \n",
        "    def forward(self, x):\n",
        "        encoded = self.encoder(x)\n",
        "        decoded = self.decoder(encoded)\n",
        "        return decoded"
      ],
      "metadata": {
        "id": "BikFlK5G_lRr"
      },
      "execution_count": null,
      "outputs": []
    },
    {
      "cell_type": "code",
      "source": [
        "model = AANN1()\n",
        "model.to(device)\n",
        "\n",
        "loss_function = nn.CrossEntropyLoss()\n",
        "  \n",
        "optimizer = optim.Adam(model.parameters(), lr = 3e-4, weight_decay = 1e-8)\n",
        "\n",
        "epochs = 100\n",
        "losses = []\n",
        "for epoch in range(epochs):\n",
        "  for (histogram, _) in loader:      \n",
        "    # Output of Autoencoder\n",
        "    model.train()\n",
        "    histogram = histogram.type(torch.float32).to(device)\n",
        "    optimizer.zero_grad()\n",
        "\n",
        "    reconstructed = model(histogram)\n",
        "    # Calculating the loss function\n",
        "    loss = loss_function(reconstructed, histogram)\n",
        "      \n",
        "    # The gradients are set to zero,\n",
        "    # the the gradient is computed and stored.\n",
        "    # .step() performs parameter update\n",
        "    loss.backward()\n",
        "    optimizer.step()\n",
        "      \n",
        "    # Storing the losses in a list for plotting\n",
        "    losses.append(loss.detach().cpu().numpy())\n",
        "  \n",
        "# Defining the Plot Style\n",
        "plt.style.use('fivethirtyeight')\n",
        "plt.xlabel('Iterations')\n",
        "plt.ylabel('Loss')\n",
        "  \n",
        "# Plotting the last 100 values\n",
        "plt.plot(losses)"
      ],
      "metadata": {
        "id": "-2MOqMq9sSwo",
        "colab": {
          "base_uri": "https://localhost:8080/",
          "height": 322
        },
        "outputId": "4eac0f67-fcd0-49c2-b01c-d7ba76140dc8"
      },
      "execution_count": 38,
      "outputs": [
        {
          "output_type": "execute_result",
          "data": {
            "text/plain": [
              "[<matplotlib.lines.Line2D at 0x7fc95cb7c210>]"
            ]
          },
          "metadata": {},
          "execution_count": 38
        },
        {
          "output_type": "display_data",
          "data": {
            "text/plain": [
              "<Figure size 432x288 with 1 Axes>"
            ],
            "image/png": "[encoded data removed]"
          },
          "metadata": {}
        }
      ]
    },
    {
      "cell_type": "code",
      "source": [
        ""
      ],
      "metadata": {
        "id": "WWnE86kf_3T0"
      },
      "execution_count": null,
      "outputs": []
    },
    {
      "cell_type": "code",
      "source": [
        "# Defining the batch size\n",
        "BATCH_SIZE = 32\n",
        "\n",
        "X_train, X_test, y_train, y_test = train_test_split(X, y, train_size=0.8, stratify=y)\n",
        "\n",
        "X_train, y_train, X_test, y_test = map(torch.tensor, [X_train, y_train, X_test, y_test])\n",
        "train_dataloader = DataLoader(TensorDataset(X_train, y_train), batch_size=BATCH_SIZE,\n",
        "                              pin_memory=True, shuffle=True)\n",
        "test_dataloader = DataLoader(TensorDataset(X_test, y_test), batch_size=BATCH_SIZE,\n",
        "                            pin_memory=True, shuffle=True)"
      ],
      "metadata": {
        "id": "xfNL5eYF4Iuk"
      },
      "execution_count": null,
      "outputs": []
    },
    {
      "cell_type": "code",
      "source": [
        "epochs = 100\n",
        "accuracy_metrics = {\n",
        "  'train': [],\n",
        "  'test': []\n",
        "}\n",
        "train_loss_list = list()\n",
        "\n",
        "for epoch in range(epochs):\n",
        "    temp_loss_list = list()\n",
        "    correct_classified = 0\n",
        "    for x_train, y_train in train_dataloader:\n",
        "        model.train()\n",
        "        x_train = x_train.type(torch.float32).to(device)\n",
        "        y_train = y_train.type(torch.long).to(device)\n",
        "        optimizer.zero_grad()\n",
        "\n",
        "        # Output of Autoencoder\n",
        "        output = model(x_train)\n",
        "        # Calculating the loss function\n",
        "        loss = loss_function(output, y_train)\n",
        "        loss.backward()\n",
        "        optimizer.step()\n",
        "        temp_loss_list.append(loss.detach().cpu().numpy())\n",
        "        max_indices = torch.argmax(output, dim=1)\n",
        "        correct_classified +=  (max_indices == y_train).float().sum()\n",
        "          \n",
        "        # Storing the losses in a list for plotting\n",
        "    train_loss_list.append(np.average(temp_loss_list))\n",
        "    accuracy_metrics[\"train\"].append(correct_classified.item() / len(train_dataloader.dataset))\n",
        "    print(\"epoch:\", epoch)\n",
        "    print(\"Train Accuracy: \", correct_classified.item() / len(train_dataloader.dataset))\n",
        "  \n",
        "correct_classified = 0\n",
        "model.eval()\n",
        "test_loss_list = list()\n",
        "for X_test, y_test in test_dataloader:\n",
        "    X_test = X_test.type(torch.float32).to(device)\n",
        "    y_test = y_test.type(torch.long).to(device)\n",
        "\n",
        "    score = model(X_test)\n",
        "    loss = loss_function(input=score, target=y_test)\n",
        "\n",
        "    test_loss_list.append(loss.detach().cpu().numpy())\n",
        "    max_indices = torch.argmax(score, dim=1)\n",
        "    correct_classified +=  (max_indices == y_test).float().sum()\n",
        "\n",
        "accuracy_metrics[\"test\"].append(correct_classified.item() / len(test_dataloader.dataset))\n",
        "test_loss_list.append(np.average(test_loss_list))\n",
        "\n",
        "print(\"Train average loss: %.5f\" %train_loss_list[-1])\n",
        "print(\"Test average loss: %.5f\" %test_loss_list[-1])\n",
        "print(\"Test Accuracy: %.5f\" %accuracy_metrics['test'][0])\n",
        "# Defining the Plot Style\n",
        "plt.style.use('fivethirtyeight')\n",
        "plt.xlabel('Iterations')\n",
        "plt.ylabel('Loss')\n",
        "  \n",
        "plt.plot(train_loss_list)\n",
        "\n"
      ],
      "metadata": {
        "colab": {
          "base_uri": "https://localhost:8080/",
          "height": 418
        },
        "id": "1IjNVXFB3SwX",
        "outputId": "c0620c77-eb47-4ea4-f48b-4de292ec0db7"
      },
      "execution_count": null,
      "outputs": [
        {
          "output_type": "stream",
          "name": "stdout",
          "text": [
            "epoch: 0\n",
            "Accuracy:  0.28925431083704467\n",
            "epoch: 1\n",
            "Accuracy:  0.3607399794450154\n",
            "epoch: 2\n",
            "Accuracy:  0.37124586045449354\n",
            "epoch: 3\n",
            "Accuracy:  0.37923946557040084\n",
            "epoch: 4\n",
            "Accuracy:  0.3849491835103346\n"
          ]
        },
        {
          "output_type": "error",
          "ename": "KeyboardInterrupt",
          "evalue": "ignored",
          "traceback": [
            "\u001b[0;31m---------------------------------------------------------------------------\u001b[0m",
            "\u001b[0;31mKeyboardInterrupt\u001b[0m                         Traceback (most recent call last)",
            "\u001b[0;32m<ipython-input-26-cad095f0b54a>\u001b[0m in \u001b[0;36m<module>\u001b[0;34m()\u001b[0m\n\u001b[1;32m     24\u001b[0m         \u001b[0mmodel\u001b[0m\u001b[0;34m.\u001b[0m\u001b[0mtrain\u001b[0m\u001b[0;34m(\u001b[0m\u001b[0;34m)\u001b[0m\u001b[0;34m\u001b[0m\u001b[0;34m\u001b[0m\u001b[0m\n\u001b[1;32m     25\u001b[0m         \u001b[0mx_train\u001b[0m \u001b[0;34m=\u001b[0m \u001b[0mx_train\u001b[0m\u001b[0;34m.\u001b[0m\u001b[0mtype\u001b[0m\u001b[0;34m(\u001b[0m\u001b[0mtorch\u001b[0m\u001b[0;34m.\u001b[0m\u001b[0mfloat32\u001b[0m\u001b[0;34m)\u001b[0m\u001b[0;34m.\u001b[0m\u001b[0mto\u001b[0m\u001b[0;34m(\u001b[0m\u001b[0mdevice\u001b[0m\u001b[0;34m)\u001b[0m\u001b[0;34m\u001b[0m\u001b[0;34m\u001b[0m\u001b[0m\n\u001b[0;32m---> 26\u001b[0;31m         \u001b[0my_train\u001b[0m \u001b[0;34m=\u001b[0m \u001b[0my_train\u001b[0m\u001b[0;34m.\u001b[0m\u001b[0mtype\u001b[0m\u001b[0;34m(\u001b[0m\u001b[0mtorch\u001b[0m\u001b[0;34m.\u001b[0m\u001b[0mlong\u001b[0m\u001b[0;34m)\u001b[0m\u001b[0;34m.\u001b[0m\u001b[0mto\u001b[0m\u001b[0;34m(\u001b[0m\u001b[0mdevice\u001b[0m\u001b[0;34m)\u001b[0m\u001b[0;34m\u001b[0m\u001b[0;34m\u001b[0m\u001b[0m\n\u001b[0m\u001b[1;32m     27\u001b[0m         \u001b[0moptimizer\u001b[0m\u001b[0;34m.\u001b[0m\u001b[0mzero_grad\u001b[0m\u001b[0;34m(\u001b[0m\u001b[0;34m)\u001b[0m\u001b[0;34m\u001b[0m\u001b[0;34m\u001b[0m\u001b[0m\n\u001b[1;32m     28\u001b[0m \u001b[0;34m\u001b[0m\u001b[0m\n",
            "\u001b[0;31mKeyboardInterrupt\u001b[0m: "
          ]
        }
      ]
    }
  ]
}